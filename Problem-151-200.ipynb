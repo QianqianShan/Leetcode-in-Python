{
 "cells": [
  {
   "cell_type": "markdown",
   "metadata": {},
   "source": [
    "152 - Maximum Product Subarray\n",
    "\n",
    "Given an integer array nums, find the contiguous subarray within an array (containing at least one number) which has the largest product.\n",
    "\n",
    "Example: \n",
    "    \n",
    "Input: [2,3,-2,4]\n",
    "    \n",
    "Output: 6\n",
    "    \n",
    "Explanation: [2,3] has the largest product 6."
   ]
  },
  {
   "cell_type": "code",
   "execution_count": null,
   "metadata": {},
   "outputs": [],
   "source": [
    "# dp\n",
    "# dp[i][0]: the max contiguous product including element i\n",
    "# dp[i][1]: the min contiguous product including element i \n",
    "# if nums[i] >= 0, dp[i + 1][0] = dp[i][0] * a[i], else dp[i+1][0] = dp[i][1] * a[i], see details in code \n",
    "# max of all dp[i][j] values is the answer \n",
    "\n",
    "class Solution(object):\n",
    "    def maxProduct(self, nums):\n",
    "        \"\"\"\n",
    "        :type nums: List[int]\n",
    "        :rtype: int\n",
    "        \"\"\"\n",
    "        # corner case \n",
    "        if not nums:\n",
    "            return None \n",
    "        \n",
    "        # initialization \n",
    "        # a 2 by 2 matrix of dp to record the current and previous state \n",
    "        dp = [[0 for _ in range(2)] for _ in range(2)]\n",
    "        dp[0][0], dp[0][1] = nums[0], nums[0]\n",
    "        cur_max =  nums[0]    \n",
    "        for i in range(1, len(nums)):\n",
    "            cur, prev = i % 2, (i - 1) % 2 \n",
    "            dp[cur][0] = max(dp[prev][0] * nums[i], dp[prev][1] * nums[i], nums[i])\n",
    "            dp[cur][1] = min(dp[prev][0] * nums[i], dp[prev][1] * nums[i], nums[i])\n",
    "            cur_max = max(cur_max, dp[cur][0])\n",
    "        return cur_max"
   ]
  },
  {
   "cell_type": "markdown",
   "metadata": {},
   "source": [
    "169 - Majority Element\n",
    "\n",
    "Given an array of size n, find the majority element. The majority element is the element that appears more than ⌊ n/2 ⌋ times.\n",
    "\n"
   ]
  },
  {
   "cell_type": "code",
   "execution_count": null,
   "metadata": {},
   "outputs": [],
   "source": [
    "# 1. use a hash map to count and then loop through to find the one with highest count \n",
    "class Solution:\n",
    "    def majorityElement(self, nums: List[int]) -> int:\n",
    "        if not nums:\n",
    "            return None \n",
    "        hash_map = {}\n",
    "        for num in nums:\n",
    "            hash_map.setdefault(num, 0)\n",
    "            hash_map[num] += 1 \n",
    "        # print(hash_map)\n",
    "        \n",
    "        # find the majority number \n",
    "        majority_count = -1 \n",
    "        majority = None \n",
    "        for key, value in hash_map.items():\n",
    "            if hash_map[key] > majority_count:\n",
    "                majority = key\n",
    "                majority_count = hash_map[key]\n",
    "         # return only if majority count > [n / 2]\n",
    "        if majority_count > len(nums) // 2:\n",
    "            print('yes')\n",
    "            return majority \n",
    "        else:\n",
    "            return None \n",
    "        "
   ]
  },
  {
   "cell_type": "markdown",
   "metadata": {},
   "source": [
    "191 - Number of 1 Bits\n",
    "\n",
    "Write a function that takes an unsigned integer and return the number of '1' bits it has (also known as the Hamming weight).\n",
    "\n"
   ]
  },
  {
   "cell_type": "code",
   "execution_count": null,
   "metadata": {},
   "outputs": [],
   "source": [
    "# 1. use n & (n - 1) to remove the last 1 \n",
    "class Solution(object):\n",
    "    def hammingWeight(self, n):\n",
    "        \"\"\"\n",
    "        :type n: int\n",
    "        :rtype: int\n",
    "        \"\"\"\n",
    "        count = 0\n",
    "        while n != 0:\n",
    "            count += 1 \n",
    "            # remove the last digit 1 \n",
    "            n = n & (n - 1)\n",
    "        return count "
   ]
  },
  {
   "cell_type": "code",
   "execution_count": null,
   "metadata": {},
   "outputs": [],
   "source": [
    "# 2. use modulus to tell if n is odd or even \n",
    "class Solution(object):\n",
    "    def hammingWeight(self, n):\n",
    "        \"\"\"\n",
    "        :type n: int\n",
    "        :rtype: int\n",
    "        \"\"\"\n",
    "        count = 0\n",
    "        while n != 0:\n",
    "            if n % 2 == 1:\n",
    "                # if odd, the right most digit is 1\n",
    "                count += 1 \n",
    "            n = n >> 1 \n",
    "        return count "
   ]
  },
  {
   "cell_type": "code",
   "execution_count": null,
   "metadata": {},
   "outputs": [],
   "source": [
    "# 3. compare each binary digit of number n with 1 \n",
    "class Solution(object):\n",
    "    def hammingWeight(self, n):\n",
    "        \"\"\"\n",
    "        :type n: int\n",
    "        :rtype: int\n",
    "        \"\"\"\n",
    "        count = 0\n",
    "        num = 1\n",
    "        for i in range(32):\n",
    "            if n & num:\n",
    "                count += 1 \n",
    "            num = num << 1 \n",
    "        return count \n"
   ]
  }
 ],
 "metadata": {
  "kernelspec": {
   "display_name": "Python 3",
   "language": "python",
   "name": "python3"
  },
  "language_info": {
   "codemirror_mode": {
    "name": "ipython",
    "version": 3
   },
   "file_extension": ".py",
   "mimetype": "text/x-python",
   "name": "python",
   "nbconvert_exporter": "python",
   "pygments_lexer": "ipython3",
   "version": "3.6.7"
  }
 },
 "nbformat": 4,
 "nbformat_minor": 2
}
