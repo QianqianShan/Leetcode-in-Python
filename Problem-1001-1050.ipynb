{
 "cells": [
  {
   "cell_type": "markdown",
   "metadata": {},
   "source": [
    "1046 - Last Stone Weight\n",
    "\n",
    "We have a collection of rocks, each rock has a positive integer weight.\n",
    "\n",
    "Each turn, we choose the two heaviest rocks and smash them together.  Suppose the stones have weights x and y with x <= y.  The result of this smash is:\n",
    "\n",
    "If x == y, both stones are totally destroyed;\n",
    "\n",
    "If x != y, the stone of weight x is totally destroyed, and the stone of weight y has new weight y-x.\n",
    "\n",
    "At the end, there is at most 1 stone left.  Return the weight of this stone (or 0 if there are no stones left.)\n",
    "\n",
    " \n",
    "\n",
    "Example 1:\n",
    "\n",
    "Input: [2,7,4,1,8,1]\n",
    "    \n",
    "Output: 1"
   ]
  },
  {
   "cell_type": "code",
   "execution_count": null,
   "metadata": {},
   "outputs": [],
   "source": [
    "# use heap to avoid consistently sorting \n",
    "from heapq import heappush, heappop \n",
    "class Solution(object):\n",
    "    def lastStoneWeight(self, stones):\n",
    "        \"\"\"\n",
    "        :type stones: List[int]\n",
    "        :rtype: int\n",
    "        \"\"\"\n",
    "        if not stones:\n",
    "            return 0 \n",
    "        heap = []\n",
    "        # add elements to maxheap \n",
    "        for stone in stones:\n",
    "            heappush(heap, -stone)\n",
    "        while len(heap) > 1:\n",
    "            w1 = -heappop(heap)\n",
    "            w2 = -heappop(heap)\n",
    "            diff = (w1 - w2) if w1 > w2 else (w2 - w1)\n",
    "            if diff > 0:\n",
    "                heappush(heap, -diff)\n",
    "        if len(heap) == 1:\n",
    "            return -heap[0]\n",
    "        else:\n",
    "            return 0\n",
    "            \n",
    "        "
   ]
  },
  {
   "cell_type": "markdown",
   "metadata": {},
   "source": [
    "1047 -  Remove All Adjacent Duplicates In String\n",
    "\n",
    "Given a string S of lowercase letters, a duplicate removal consists of choosing two adjacent and equal letters, and removing them.\n",
    "\n",
    "We repeatedly make duplicate removals on S until we no longer can.\n",
    "\n",
    "Return the final string after all such duplicate removals have been made.  It is guaranteed the answer is unique.\n",
    "\n",
    " \n",
    "\n",
    "Example 1:\n",
    "\n",
    "Input: \"abbaca\"\n",
    "    \n",
    "Output: \"ca\""
   ]
  },
  {
   "cell_type": "code",
   "execution_count": null,
   "metadata": {},
   "outputs": [],
   "source": [
    "class Solution(object):\n",
    "    def removeDuplicates(self, S):\n",
    "        \"\"\"\n",
    "        :type S: str\n",
    "        :rtype: str\n",
    "        \"\"\"\n",
    "        if not S:\n",
    "            return ''\n",
    "        stack = []\n",
    "        i = 0 \n",
    "        while i < len(S):\n",
    "            # print(stack)\n",
    "            # remove duplicates \n",
    "            while stack and i < len(S) and stack[-1] == S[i]:\n",
    "                stack.pop()\n",
    "                i += 1 \n",
    "            # add S[i]\n",
    "            if i < len(S):\n",
    "                stack.append(S[i])\n",
    "                i += 1 \n",
    "        return ''.join(stack)\n",
    "        "
   ]
  }
 ],
 "metadata": {
  "kernelspec": {
   "display_name": "Python 3",
   "language": "python",
   "name": "python3"
  },
  "language_info": {
   "codemirror_mode": {
    "name": "ipython",
    "version": 3
   },
   "file_extension": ".py",
   "mimetype": "text/x-python",
   "name": "python",
   "nbconvert_exporter": "python",
   "pygments_lexer": "ipython3",
   "version": "3.6.8"
  }
 },
 "nbformat": 4,
 "nbformat_minor": 2
}
