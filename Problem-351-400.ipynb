{
 "cells": [
  {
   "cell_type": "markdown",
   "metadata": {},
   "source": [
    "394 - Decode String\n",
    "\n",
    "Given an encoded string, return it's decoded string.\n",
    "\n",
    "The encoding rule is: k[encoded_string], where the encoded_string inside the square brackets is being repeated exactly k times. Note that k is guaranteed to be a positive integer.\n",
    "\n",
    "Examples:\n",
    "\n",
    "s = \"3[a]2[bc]\", return \"aaabcbc\".\n",
    "\n",
    "s = \"3[a2[c]]\", return \"accaccacc\"."
   ]
  },
  {
   "cell_type": "code",
   "execution_count": null,
   "metadata": {},
   "outputs": [],
   "source": [
    "class Solution:\n",
    "    def decodeString(self, s: str) -> str:\n",
    "        # corner cases \n",
    "        if s is None:\n",
    "            return None \n",
    "        if len(s) == 0:\n",
    "            return \"\"\n",
    "        \n",
    "        stack = []\n",
    "        \n",
    "        # loop through all chars in s \n",
    "        for char in s:\n",
    "            # find the next ] \n",
    "            if char != ']':\n",
    "                stack.append(char)\n",
    "                continue \n",
    "                \n",
    "            # now char == ']', expand contents within []\n",
    "            # extract chars in [] in reversed order \n",
    "            sub_str = []\n",
    "            while stack and stack[-1] != '[':\n",
    "                sub_str.append(stack.pop())\n",
    "            \n",
    "            # now stack[-1] == '[', ignore \n",
    "            stack.pop()\n",
    "            \n",
    "            # find the number of repetition \n",
    "            rep = 0 \n",
    "            base = 1 # rep can be more than 10 (with two digits)\n",
    "            while stack and stack[-1].isdigit():\n",
    "                rep += (int(stack.pop())) * base \n",
    "                base *= 10 \n",
    "            # push expanded substr to stack \n",
    "            stack.append(''.join(reversed(sub_str)) * rep)\n",
    "            \n",
    "        # join substrs together \n",
    "        return(''.join(stack))\n",
    "        \n"
   ]
  }
 ],
 "metadata": {
  "kernelspec": {
   "display_name": "Python 3",
   "language": "python",
   "name": "python3"
  },
  "language_info": {
   "codemirror_mode": {
    "name": "ipython",
    "version": 3
   },
   "file_extension": ".py",
   "mimetype": "text/x-python",
   "name": "python",
   "nbconvert_exporter": "python",
   "pygments_lexer": "ipython3",
   "version": "3.6.7"
  }
 },
 "nbformat": 4,
 "nbformat_minor": 2
}
