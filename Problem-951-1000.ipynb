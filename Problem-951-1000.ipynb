{
 "cells": [
  {
   "cell_type": "markdown",
   "metadata": {},
   "source": [
    "973 - K Closest Points to Origin\n",
    "\n",
    "We have a list of points on the plane.  Find the K closest points to the origin (0, 0).\n",
    "\n",
    "(Here, the distance between two points on a plane is the Euclidean distance.)\n",
    "\n",
    "You may return the answer in any order.  The answer is guaranteed to be unique (except for the order that it is in.)\n",
    "\n",
    " \n",
    "\n",
    "Example 1:\n",
    "\n",
    "Input: points = [[1,3],[-2,2]], K = 1\n",
    "    \n",
    "Output: [[-2,2]]"
   ]
  },
  {
   "cell_type": "code",
   "execution_count": null,
   "metadata": {},
   "outputs": [],
   "source": [
    "# maintain a heap of size K \n",
    "# push the negative distance into a heap so whenever there is a point that has \n",
    "# smallest negative distance will be poped out if size of heap > K  \n",
    "from heapq import heappush, heappop \n",
    "class Solution(object):\n",
    "    def kClosest(self, points, K):\n",
    "        \"\"\"\n",
    "        :type points: List[List[int]]\n",
    "        :type K: int\n",
    "        :rtype: List[List[int]]\n",
    "        \"\"\"\n",
    "        if not points:\n",
    "            return []\n",
    "        # push points info to heap \n",
    "        heap = []\n",
    "        for point in points:\n",
    "            dist = point[0]**2 + point[1]**2 \n",
    "            # push -distance^2, -x, -y \n",
    "            # -x, -y is used to break ties when distances are the same \n",
    "            heappush(heap, (-dist, -point[0], -point[1]))\n",
    "            # drop points that are no longer possible to be top K closest \n",
    "            if len(heap) > K:\n",
    "                heappop(heap)\n",
    "        # read point data from heap \n",
    "        results = []\n",
    "        while heap:\n",
    "            cur_point = heappop(heap)\n",
    "            results.append([-cur_point[1], -cur_point[2]])\n",
    "        return results \n",
    "            "
   ]
  }
 ],
 "metadata": {
  "kernelspec": {
   "display_name": "Python 3",
   "language": "python",
   "name": "python3"
  },
  "language_info": {
   "codemirror_mode": {
    "name": "ipython",
    "version": 3
   },
   "file_extension": ".py",
   "mimetype": "text/x-python",
   "name": "python",
   "nbconvert_exporter": "python",
   "pygments_lexer": "ipython3",
   "version": "3.6.8"
  }
 },
 "nbformat": 4,
 "nbformat_minor": 2
}
