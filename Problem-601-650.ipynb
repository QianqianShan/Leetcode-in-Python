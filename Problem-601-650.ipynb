{
 "cells": [
  {
   "cell_type": "markdown",
   "metadata": {},
   "source": [
    "617 - Merge Two Binary Trees\n",
    "\n",
    "Given two binary trees and imagine that when you put one of them to cover the other, some nodes of the two trees are overlapped while the others are not.\n",
    "\n",
    "You need to merge them into a new binary tree. The merge rule is that if two nodes overlap, then sum node values up as the new value of the merged node. Otherwise, the NOT null node will be used as the node of new tree.\n",
    "\n",
    "Example 1:\n",
    "\n",
    "Input: \n",
    "    \n",
    "\tTree 1                     Tree 2                  \n",
    "          1                         2                             \n",
    "         / \\                       / \\                            \n",
    "        3   2                     1   3                        \n",
    "       /                           \\   \\                      \n",
    "      5                             4   7                  \n",
    "\n",
    "Output: \n",
    "\n",
    "Merged tree:\n",
    "\n",
    "\t     3\n",
    "\t    / \\\n",
    "\t   4   5\n",
    "\t  / \\   \\ \n",
    "\t 5   4   7"
   ]
  },
  {
   "cell_type": "code",
   "execution_count": null,
   "metadata": {},
   "outputs": [],
   "source": [
    "# Definition for a binary tree node.\n",
    "# class TreeNode(object):\n",
    "#     def __init__(self, x):\n",
    "#         self.val = x\n",
    "#         self.left = None\n",
    "#         self.right = None\n",
    "\n",
    "from collections import deque \n",
    "class Solution(object):\n",
    "    def mergeTrees(self, t1, t2):\n",
    "        \"\"\"\n",
    "        :type t1: TreeNode\n",
    "        :type t2: TreeNode\n",
    "        :rtype: TreeNode\n",
    "        \"\"\"\n",
    "        if t1 is None:\n",
    "            return t2\n",
    "        if t2 is None:\n",
    "            return t1\n",
    "        t3 = TreeNode(t1.val + t2.val)\n",
    "        t3.left = self.mergeTrees(t1.left, t2.left)\n",
    "        t3.right = self.mergeTrees(t1.right, t2.right)\n",
    "        return t3\n",
    "        \n",
    "        "
   ]
  },
  {
   "cell_type": "markdown",
   "metadata": {},
   "source": [
    "621 - Task Scheduler\n",
    "\n",
    "Given a char array representing tasks CPU need to do. It contains capital letters A to Z where different letters represent different tasks. Tasks could be done without original order. Each task could be done in one interval. For each interval, CPU could finish one task or just be idle.\n",
    "\n",
    "However, there is a non-negative cooling interval n that means between two same tasks, there must be at least n intervals that CPU are doing different tasks or just be idle.\n",
    "\n",
    "You need to return the least number of intervals the CPU will take to finish all the given tasks.\n",
    "\n",
    " \n",
    "\n",
    "Example:\n",
    "\n",
    "Input: tasks = [\"A\",\"A\",\"A\",\"B\",\"B\",\"B\"], n = 2\n",
    "    \n",
    "Output: 8\n",
    "    \n",
    "Explanation: A -> B -> idle -> A -> B -> idle -> A -> B."
   ]
  },
  {
   "cell_type": "code",
   "execution_count": null,
   "metadata": {},
   "outputs": [],
   "source": [
    "# find the max freq of tasks\n",
    "# the max len is (max_freq - 1) * (n + 1) + # of tasks that have this max_freq \n",
    "# n + 1: n intervals + task another time \n",
    "# AABBCD with n = 3: ABC_ABD  1 * 4 + 2\n",
    "# if the above length < len(tasks), then the max interval is len(tasks)\n",
    "class Solution(object):\n",
    "    def leastInterval(self, tasks, n):\n",
    "        \"\"\"\n",
    "        :type tasks: List[str]\n",
    "        :type n: int\n",
    "        :rtype: int\n",
    "        \"\"\"\n",
    "        counts = {}\n",
    "        for task in tasks:\n",
    "            counts.setdefault(task, 0)\n",
    "            counts[task] += 1 \n",
    "        max_count_task = None \n",
    "        max_count = 0\n",
    "        for task in counts:\n",
    "            if counts[task] > max_count:\n",
    "                max_count_task = task\n",
    "                max_count = counts[task]\n",
    "        num_max_count = len([k for k, v in counts.items() if v == max_count])\n",
    "        # print(num_max_count)\n",
    "        total = (max_count - 1) * (n + 1) + num_max_count \n",
    "        return max(total, len(tasks))\n",
    "            "
   ]
  }
 ],
 "metadata": {
  "kernelspec": {
   "display_name": "Python 3",
   "language": "python",
   "name": "python3"
  },
  "language_info": {
   "codemirror_mode": {
    "name": "ipython",
    "version": 3
   },
   "file_extension": ".py",
   "mimetype": "text/x-python",
   "name": "python",
   "nbconvert_exporter": "python",
   "pygments_lexer": "ipython3",
   "version": "3.6.8"
  }
 },
 "nbformat": 4,
 "nbformat_minor": 2
}
