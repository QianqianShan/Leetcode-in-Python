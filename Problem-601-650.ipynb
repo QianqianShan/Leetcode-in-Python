{
 "cells": [
  {
   "cell_type": "markdown",
   "metadata": {},
   "source": [
    "621 - Task Scheduler\n",
    "\n",
    "Given a char array representing tasks CPU need to do. It contains capital letters A to Z where different letters represent different tasks. Tasks could be done without original order. Each task could be done in one interval. For each interval, CPU could finish one task or just be idle.\n",
    "\n",
    "However, there is a non-negative cooling interval n that means between two same tasks, there must be at least n intervals that CPU are doing different tasks or just be idle.\n",
    "\n",
    "You need to return the least number of intervals the CPU will take to finish all the given tasks.\n",
    "\n",
    " \n",
    "\n",
    "Example:\n",
    "\n",
    "Input: tasks = [\"A\",\"A\",\"A\",\"B\",\"B\",\"B\"], n = 2\n",
    "    \n",
    "Output: 8\n",
    "    \n",
    "Explanation: A -> B -> idle -> A -> B -> idle -> A -> B."
   ]
  },
  {
   "cell_type": "code",
   "execution_count": null,
   "metadata": {},
   "outputs": [],
   "source": [
    "# find the max freq of tasks\n",
    "# the max len is (max_freq - 1) * (n + 1) + # of tasks that have this max_freq \n",
    "# n + 1: n intervals + task another time \n",
    "# AABBCD with n = 3: ABC_ABD  1 * 4 + 2\n",
    "# if the above length < len(tasks), then the max interval is len(tasks)\n",
    "class Solution(object):\n",
    "    def leastInterval(self, tasks, n):\n",
    "        \"\"\"\n",
    "        :type tasks: List[str]\n",
    "        :type n: int\n",
    "        :rtype: int\n",
    "        \"\"\"\n",
    "        counts = {}\n",
    "        for task in tasks:\n",
    "            counts.setdefault(task, 0)\n",
    "            counts[task] += 1 \n",
    "        max_count_task = None \n",
    "        max_count = 0\n",
    "        for task in counts:\n",
    "            if counts[task] > max_count:\n",
    "                max_count_task = task\n",
    "                max_count = counts[task]\n",
    "        num_max_count = len([k for k, v in counts.items() if v == max_count])\n",
    "        # print(num_max_count)\n",
    "        total = (max_count - 1) * (n + 1) + num_max_count \n",
    "        return max(total, len(tasks))\n",
    "            "
   ]
  }
 ],
 "metadata": {
  "kernelspec": {
   "display_name": "Python 3",
   "language": "python",
   "name": "python3"
  },
  "language_info": {
   "codemirror_mode": {
    "name": "ipython",
    "version": 3
   },
   "file_extension": ".py",
   "mimetype": "text/x-python",
   "name": "python",
   "nbconvert_exporter": "python",
   "pygments_lexer": "ipython3",
   "version": "3.6.8"
  }
 },
 "nbformat": 4,
 "nbformat_minor": 2
}
