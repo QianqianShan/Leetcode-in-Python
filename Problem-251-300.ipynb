{
 "cells": [
  {
   "cell_type": "markdown",
   "metadata": {},
   "source": [
    "259 - 3Sum Smaller\n",
    "\n",
    "Given an array of n integers nums and a target, find the `number` of index triplets i, j, k with 0 <= i < j < k < n that satisfy the condition nums[i] + nums[j] + nums[k] < target."
   ]
  },
  {
   "cell_type": "code",
   "execution_count": null,
   "metadata": {},
   "outputs": [],
   "source": [
    "# two pointers \n",
    "class Solution:\n",
    "    def threeSumSmaller(self, nums: List[int], target: int) -> int:\n",
    "        # corner case \n",
    "        if not nums or len(nums) < 3:\n",
    "            return 0\n",
    "        \n",
    "        # sort \n",
    "        nums.sort()\n",
    "        \n",
    "        count = 0 \n",
    "        \n",
    "        # enumerate one number, use two pointers to loop the other two \n",
    "        for i in range(len(nums)):\n",
    "            left, right = i + 1, len(nums) - 1 \n",
    "            while left < right:\n",
    "                new_sum = nums[i] + nums[left] + nums[right]\n",
    "                if new_sum < target:\n",
    "                    # nums[i] + nums[x]+ nums[right] < target for x = left, left + 1, ..., right - 1 \n",
    "                    count += right - left \n",
    "                    left += 1 \n",
    "                else:\n",
    "                    right -= 1 \n",
    "        return count \n",
    "        "
   ]
  },
  {
   "cell_type": "markdown",
   "metadata": {},
   "source": [
    "300 - Longest Increasing Subsequence\n",
    "\n",
    "Given an unsorted array of integers, find the length of longest increasing subsequence.\n",
    "\n",
    "Example:\n",
    "\n",
    "Input: [10,9,2,5,3,7,101,18]\n",
    "    \n",
    "Output: 4 \n",
    "    \n",
    "Explanation: The longest increasing subsequence is [2,3,7,101], therefore the length is 4. "
   ]
  },
  {
   "cell_type": "code",
   "execution_count": null,
   "metadata": {},
   "outputs": [],
   "source": [
    "# 1. dp, O(N^2) \n",
    "# lis[i]: the longest increasing subsequence with elements before i and element at loc i is included \n",
    "# final answer is max(lis[0], ..., lis[n-1])\n",
    "class Solution(object):\n",
    "    def lengthOfLIS(self, nums):\n",
    "        \"\"\"\n",
    "        :type nums: List[int]\n",
    "        :rtype: int\n",
    "        \"\"\"\n",
    "        if not nums:\n",
    "            return 0 \n",
    "        # initialization \n",
    "        lis = [0 for _ in range(len(nums))]\n",
    "        lis[0] = 1\n",
    "        \n",
    "        # loop \n",
    "        for i in range(1, len(nums)):\n",
    "            prev_lis = 0\n",
    "            for j in range(i):\n",
    "                if nums[j] < nums[i]:\n",
    "                    prev_lis = max(prev_lis, lis[j])\n",
    "            lis[i] = prev_lis + 1 \n",
    "        return max(lis)\n",
    "                "
   ]
  },
  {
   "cell_type": "code",
   "execution_count": null,
   "metadata": {},
   "outputs": [],
   "source": [
    "# 2. maintain a list of lis and check its size at the end \n",
    "class Solution(object):\n",
    "    def lengthOfLIS(self, nums):\n",
    "        \"\"\"\n",
    "        :type nums: List[int]\n",
    "        :rtype: int\n",
    "        \"\"\"\n",
    "        if not nums:\n",
    "            return 0 \n",
    "        # lis list \n",
    "        lis = [nums[0]]\n",
    "        for i in range(1, len(nums)):\n",
    "            if nums[i] > lis[-1]:\n",
    "                lis.append(nums[i])\n",
    "            else:\n",
    "                first_bigger_loc = self.search(lis, nums[i])\n",
    "                lis[first_bigger_loc] = nums[i]\n",
    "                # lis = lis[ : first_bigger_loc + 1]\n",
    "            # print(lis)\n",
    "        return len(lis)\n",
    "    # find the first location in nums that has a number bigger than target\n",
    "    def search(self, nums, target):\n",
    "        left, right = 0, len(nums) - 1\n",
    "        while left + 1 < right:\n",
    "            mid = (left + right) // 2 \n",
    "            if nums[mid] < target:\n",
    "                left  = mid \n",
    "            else:\n",
    "                right = mid \n",
    "        return left if nums[left] >= target else right \n"
   ]
  }
 ],
 "metadata": {
  "kernelspec": {
   "display_name": "Python 3",
   "language": "python",
   "name": "python3"
  },
  "language_info": {
   "codemirror_mode": {
    "name": "ipython",
    "version": 3
   },
   "file_extension": ".py",
   "mimetype": "text/x-python",
   "name": "python",
   "nbconvert_exporter": "python",
   "pygments_lexer": "ipython3",
   "version": "3.6.7"
  }
 },
 "nbformat": 4,
 "nbformat_minor": 2
}
