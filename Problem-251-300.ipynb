{
 "cells": [
  {
   "cell_type": "markdown",
   "metadata": {},
   "source": [
    "259 - 3Sum Smaller\n",
    "\n",
    "Given an array of n integers nums and a target, find the `number` of index triplets i, j, k with 0 <= i < j < k < n that satisfy the condition nums[i] + nums[j] + nums[k] < target."
   ]
  },
  {
   "cell_type": "code",
   "execution_count": null,
   "metadata": {},
   "outputs": [],
   "source": [
    "# two pointers \n",
    "class Solution:\n",
    "    def threeSumSmaller(self, nums: List[int], target: int) -> int:\n",
    "        # corner case \n",
    "        if not nums or len(nums) < 3:\n",
    "            return 0\n",
    "        \n",
    "        # sort \n",
    "        nums.sort()\n",
    "        \n",
    "        count = 0 \n",
    "        \n",
    "        # enumerate one number, use two pointers to loop the other two \n",
    "        for i in range(len(nums)):\n",
    "            left, right = i + 1, len(nums) - 1 \n",
    "            while left < right:\n",
    "                new_sum = nums[i] + nums[left] + nums[right]\n",
    "                if new_sum < target:\n",
    "                    # nums[i] + nums[x]+ nums[right] < target for x = left, left + 1, ..., right - 1 \n",
    "                    count += right - left \n",
    "                    left += 1 \n",
    "                else:\n",
    "                    right -= 1 \n",
    "        return count \n",
    "        "
   ]
  }
 ],
 "metadata": {
  "kernelspec": {
   "display_name": "Python 3",
   "language": "python",
   "name": "python3"
  },
  "language_info": {
   "codemirror_mode": {
    "name": "ipython",
    "version": 3
   },
   "file_extension": ".py",
   "mimetype": "text/x-python",
   "name": "python",
   "nbconvert_exporter": "python",
   "pygments_lexer": "ipython3",
   "version": "3.6.7"
  }
 },
 "nbformat": 4,
 "nbformat_minor": 2
}
