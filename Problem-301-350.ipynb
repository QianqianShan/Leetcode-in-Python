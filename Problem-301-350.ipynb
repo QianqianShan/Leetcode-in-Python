{
 "cells": [
  {
   "cell_type": "markdown",
   "metadata": {},
   "source": [
    "322 - Coin Change\n",
    "\n",
    "You are given coins of different denominations and a total amount of money amount. Write a function to compute the fewest number of coins that you need to make up that amount. If that amount of money cannot be made up by any combination of the coins, return -1.\n",
    "\n",
    "Example:\n",
    "\n",
    "Input: coins = [1, 2, 5], amount = 11\n",
    "\n",
    "Output: 3 \n",
    "\n",
    "Explanation: 11 = 5 + 5 + 1"
   ]
  },
  {
   "cell_type": "code",
   "execution_count": null,
   "metadata": {},
   "outputs": [],
   "source": [
    "# dp\n",
    "# dp[i]: the number of coins needed to obtain amount i \n",
    "# dp[i] = min(dp[i], dp[i - coins[j]] + 1) for each element in coins \n",
    "import sys\n",
    "class Solution(object):\n",
    "    def coinChange(self, coins, amount):\n",
    "        \"\"\"\n",
    "        :type coins: List[int]\n",
    "        :type amount: int\n",
    "        :rtype: int\n",
    "        \"\"\"\n",
    "        # corner case \n",
    "        if not coins or not amount:\n",
    "            return 0\n",
    "        \n",
    "        # initialization \n",
    "        dp = [sys.maxsize for _ in range(amount + 1)]\n",
    "        dp[0] = 0\n",
    "        \n",
    "        # loop\n",
    "        for i in range(1, amount + 1):\n",
    "            for j in range(len(coins)):\n",
    "                if i >= coins[j]:\n",
    "                    dp[i] = min(dp[i], dp[i - coins[j]] + 1) \n",
    "        return dp[amount] if dp[amount] < sys.maxsize else -1 \n",
    "            \n"
   ]
  },
  {
   "cell_type": "markdown",
   "metadata": {},
   "source": [
    "338 - Counting Bits\n",
    "\n",
    "Given a non negative integer number num. For every numbers i in the range 0 ≤ i ≤ num calculate the number of 1's in their binary representation and return them as an array.\n",
    "\n"
   ]
  },
  {
   "cell_type": "code",
   "execution_count": null,
   "metadata": {},
   "outputs": [],
   "source": [
    "# number of 1's in num i = number of 1's in num[i & (i - 1)] + 1, \n",
    "# where i & (i - 1) has one less 1's than i and always calculated before i \n",
    "class Solution:\n",
    "    def countBits(self, num: int) -> List[int]:\n",
    "        if num is None:\n",
    "            return []\n",
    "        \n",
    "        results = [0] * (num + 1)\n",
    "        # print(results)\n",
    "        for i in range(1, num + 1, 1):\n",
    "            print(i & (i - 1))\n",
    "            results[i] = results[i & (i - 1)] + 1 \n",
    "        return results "
   ]
  }
 ],
 "metadata": {
  "kernelspec": {
   "display_name": "Python 3",
   "language": "python",
   "name": "python3"
  },
  "language_info": {
   "codemirror_mode": {
    "name": "ipython",
    "version": 3
   },
   "file_extension": ".py",
   "mimetype": "text/x-python",
   "name": "python",
   "nbconvert_exporter": "python",
   "pygments_lexer": "ipython3",
   "version": "3.6.7"
  }
 },
 "nbformat": 4,
 "nbformat_minor": 2
}
