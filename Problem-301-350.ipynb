{
 "cells": [
  {
   "cell_type": "markdown",
   "metadata": {},
   "source": [
    "338 - Counting Bits\n",
    "\n",
    "Given a non negative integer number num. For every numbers i in the range 0 ≤ i ≤ num calculate the number of 1's in their binary representation and return them as an array.\n",
    "\n"
   ]
  },
  {
   "cell_type": "code",
   "execution_count": null,
   "metadata": {},
   "outputs": [],
   "source": [
    "# number of 1's in num i = number of 1's in num[i & (i - 1)] + 1, \n",
    "# where i & (i - 1) has one less 1's than i and always calculated before i \n",
    "class Solution:\n",
    "    def countBits(self, num: int) -> List[int]:\n",
    "        if num is None:\n",
    "            return []\n",
    "        \n",
    "        results = [0] * (num + 1)\n",
    "        # print(results)\n",
    "        for i in range(1, num + 1, 1):\n",
    "            print(i & (i - 1))\n",
    "            results[i] = results[i & (i - 1)] + 1 \n",
    "        return results "
   ]
  }
 ],
 "metadata": {
  "kernelspec": {
   "display_name": "Python 3",
   "language": "python",
   "name": "python3"
  },
  "language_info": {
   "codemirror_mode": {
    "name": "ipython",
    "version": 3
   },
   "file_extension": ".py",
   "mimetype": "text/x-python",
   "name": "python",
   "nbconvert_exporter": "python",
   "pygments_lexer": "ipython3",
   "version": "3.6.7"
  }
 },
 "nbformat": 4,
 "nbformat_minor": 2
}
