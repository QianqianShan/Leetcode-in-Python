{
 "cells": [
  {
   "cell_type": "markdown",
   "metadata": {},
   "source": [
    "674 - Longest Continuous Increasing Subsequence\n",
    "\n",
    "Given an unsorted array of integers, find the length of longest continuous increasing subsequence (subarray).\n",
    "\n",
    "Example 1:\n",
    "\n",
    "Input: [1,3,5,4,7]\n",
    "\n",
    "Output: 3\n",
    "\n",
    "Explanation: The longest continuous increasing subsequence is [1,3,5], its length is 3. \n",
    "\n",
    "Even though [1,3,5,7] is also an increasing subsequence, it's not a continuous one where 5 and 7 are separated by 4. "
   ]
  },
  {
   "cell_type": "code",
   "execution_count": null,
   "metadata": {},
   "outputs": [],
   "source": [
    "class Solution(object):\n",
    "    def findLengthOfLCIS(self, nums):\n",
    "        \"\"\"\n",
    "        :type nums: List[int]\n",
    "        :rtype: int\n",
    "        \"\"\"\n",
    "        if nums is None or len(nums) == 0:\n",
    "            return 0\n",
    "        longest = 1 \n",
    "        cur_len = 1 \n",
    "        for i in range(len(nums) - 1):\n",
    "            if nums[i + 1] > nums[i]:\n",
    "                cur_len += 1 \n",
    "                longest = max(longest, cur_len)\n",
    "            else:\n",
    "                cur_len = 1 \n",
    "        return longest \n",
    "        "
   ]
  },
  {
   "cell_type": "markdown",
   "metadata": {},
   "source": [
    "678 - Valid Parenthesis String\n",
    "\n",
    "Given a string containing only three types of characters: '(', ')' and '*', write a function to check whether this string is valid. We define the validity of a string by these rules:\n",
    "\n",
    "* Any left parenthesis '(' must have a corresponding right parenthesis ')'.\n",
    "* Any right parenthesis ')' must have a corresponding left parenthesis '('.\n",
    "* Left parenthesis '(' must go before the corresponding right parenthesis ')'.\n",
    "* '*' could be treated as a single right parenthesis ')' or a single left parenthesis '(' or an empty string.\n",
    "* An empty string is also valid."
   ]
  },
  {
   "cell_type": "markdown",
   "metadata": {},
   "source": [
    "680 - Valid Palindrome II\n",
    "\n",
    "Given a non-empty string s, you may delete at most one character. Judge whether you can make it a palindrome.\n",
    "\n",
    "\n",
    "Example:\n",
    "\n",
    "Input: \"abca\"\n",
    "\n",
    "Output: True\n",
    "\n",
    "Explanation: You could delete the character 'c'."
   ]
  },
  {
   "cell_type": "code",
   "execution_count": null,
   "metadata": {},
   "outputs": [],
   "source": [
    "class Solution(object):\n",
    "    def validPalindrome(self, s):\n",
    "        \"\"\"\n",
    "        :type s: str\n",
    "        :rtype: bool\n",
    "        \"\"\"\n",
    "        # corner case \n",
    "        if s is None:\n",
    "            return False \n",
    "        if len(s) == 0:\n",
    "            return True \n",
    "        \n",
    "        # loop \n",
    "        left, right = 0, len(s) - 1 \n",
    "        while left < right:\n",
    "            # if not equal \n",
    "            if s[left] != s[right]:\n",
    "                # tell if the unvisited substrings can be a palindrome by removing one character \n",
    "                return self.is_palindrome(s[left : right]) or self.is_palindrome(s[left + 1 : right + 1])\n",
    "            else:\n",
    "                # two pointers goes closer until finding unequal characters \n",
    "                left += 1 \n",
    "                right -= 1 \n",
    "        # if every character is symmetric \n",
    "        return True \n",
    "    \n",
    "    def is_palindrome(self, s):\n",
    "        if len(s) == 0:\n",
    "            return True \n",
    "        left, right = 0, len(s) - 1 \n",
    "        while left < right:\n",
    "            if s[left] != s[right]:\n",
    "                return False \n",
    "            else:\n",
    "                left += 1 \n",
    "                right -= 1 \n",
    "        return True "
   ]
  }
 ],
 "metadata": {
  "kernelspec": {
   "display_name": "Python 3",
   "language": "python",
   "name": "python3"
  },
  "language_info": {
   "codemirror_mode": {
    "name": "ipython",
    "version": 3
   },
   "file_extension": ".py",
   "mimetype": "text/x-python",
   "name": "python",
   "nbconvert_exporter": "python",
   "pygments_lexer": "ipython3",
   "version": "3.6.8"
  }
 },
 "nbformat": 4,
 "nbformat_minor": 2
}
