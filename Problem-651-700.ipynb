{
 "cells": [
  {
   "cell_type": "markdown",
   "metadata": {},
   "source": [
    "678 - Valid Parenthesis String\n",
    "\n",
    "Given a string containing only three types of characters: '(', ')' and '*', write a function to check whether this string is valid. We define the validity of a string by these rules:\n",
    "\n",
    "* Any left parenthesis '(' must have a corresponding right parenthesis ')'.\n",
    "* Any right parenthesis ')' must have a corresponding left parenthesis '('.\n",
    "* Left parenthesis '(' must go before the corresponding right parenthesis ')'.\n",
    "* '*' could be treated as a single right parenthesis ')' or a single left parenthesis '(' or an empty string.\n",
    "* An empty string is also valid."
   ]
  },
  {
   "cell_type": "markdown",
   "metadata": {},
   "source": [
    "680 - Valid Palindrome II\n",
    "\n",
    "Given a non-empty string s, you may delete at most one character. Judge whether you can make it a palindrome.\n",
    "\n",
    "\n",
    "Example:\n",
    "\n",
    "Input: \"abca\"\n",
    "\n",
    "Output: True\n",
    "\n",
    "Explanation: You could delete the character 'c'."
   ]
  },
  {
   "cell_type": "code",
   "execution_count": null,
   "metadata": {},
   "outputs": [],
   "source": [
    "class Solution(object):\n",
    "    def validPalindrome(self, s):\n",
    "        \"\"\"\n",
    "        :type s: str\n",
    "        :rtype: bool\n",
    "        \"\"\"\n",
    "        # corner case \n",
    "        if s is None:\n",
    "            return False \n",
    "        if len(s) == 0:\n",
    "            return True \n",
    "        \n",
    "        # loop \n",
    "        left, right = 0, len(s) - 1 \n",
    "        while left < right:\n",
    "            # if not equal \n",
    "            if s[left] != s[right]:\n",
    "                # tell if the unvisited substrings can be a palindrome by removing one character \n",
    "                return self.is_palindrome(s[left : right]) or self.is_palindrome(s[left + 1 : right + 1])\n",
    "            else:\n",
    "                # two pointers goes closer until finding unequal characters \n",
    "                left += 1 \n",
    "                right -= 1 \n",
    "        # if every character is symmetric \n",
    "        return True \n",
    "    \n",
    "    def is_palindrome(self, s):\n",
    "        if len(s) == 0:\n",
    "            return True \n",
    "        left, right = 0, len(s) - 1 \n",
    "        while left < right:\n",
    "            if s[left] != s[right]:\n",
    "                return False \n",
    "            else:\n",
    "                left += 1 \n",
    "                right -= 1 \n",
    "        return True "
   ]
  }
 ],
 "metadata": {
  "kernelspec": {
   "display_name": "Python 3",
   "language": "python",
   "name": "python3"
  },
  "language_info": {
   "codemirror_mode": {
    "name": "ipython",
    "version": 3
   },
   "file_extension": ".py",
   "mimetype": "text/x-python",
   "name": "python",
   "nbconvert_exporter": "python",
   "pygments_lexer": "ipython3",
   "version": "3.6.7"
  }
 },
 "nbformat": 4,
 "nbformat_minor": 2
}
