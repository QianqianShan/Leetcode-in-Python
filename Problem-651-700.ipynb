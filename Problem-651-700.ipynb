{
 "cells": [
  {
   "cell_type": "markdown",
   "metadata": {},
   "source": [
    "678 - Valid Parenthesis String\n",
    "\n",
    "Given a string containing only three types of characters: '(', ')' and '*', write a function to check whether this string is valid. We define the validity of a string by these rules:\n",
    "\n",
    "* Any left parenthesis '(' must have a corresponding right parenthesis ')'.\n",
    "* Any right parenthesis ')' must have a corresponding left parenthesis '('.\n",
    "* Left parenthesis '(' must go before the corresponding right parenthesis ')'.\n",
    "* '*' could be treated as a single right parenthesis ')' or a single left parenthesis '(' or an empty string.\n",
    "* An empty string is also valid."
   ]
  }
 ],
 "metadata": {
  "kernelspec": {
   "display_name": "Python 3",
   "language": "python",
   "name": "python3"
  },
  "language_info": {
   "codemirror_mode": {
    "name": "ipython",
    "version": 3
   },
   "file_extension": ".py",
   "mimetype": "text/x-python",
   "name": "python",
   "nbconvert_exporter": "python",
   "pygments_lexer": "ipython3",
   "version": "3.6.7"
  }
 },
 "nbformat": 4,
 "nbformat_minor": 2
}
