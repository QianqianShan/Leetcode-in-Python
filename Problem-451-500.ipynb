{
 "cells": [
  {
   "cell_type": "markdown",
   "metadata": {},
   "source": [
    "454 - 4Sum II\n",
    "\n",
    "Given four lists A, B, C, D of integer values, compute how many tuples (i, j, k, l) there are such that A[i] + B[j] + C[k] + D[l] is zero."
   ]
  },
  {
   "cell_type": "code",
   "execution_count": null,
   "metadata": {},
   "outputs": [],
   "source": [
    "class Solution:\n",
    "    def fourSumCount(self, A: List[int], B: List[int], C: List[int], D: List[int]) -> int:\n",
    "        # corner case \n",
    "        if A is None or B is None or C is None or D is None:\n",
    "            return  0\n",
    "        # hash_table, key = sum(A[i] + B[j]), value = counts of key appearances \n",
    "        hash_table = {}\n",
    "        for i in range(len(A)):\n",
    "            for j in range(len(B)):\n",
    "                hash_table.setdefault(A[i] + B[j], 0)\n",
    "                hash_table[A[i] + B[j]] += 1 \n",
    "        # loop over C and D \n",
    "        count = 0 \n",
    "        for i in range(len(C)):\n",
    "            for j in range(len(D)):\n",
    "                new_target = - (C[i] + D[j])\n",
    "                if new_target in hash_table:\n",
    "                    count += hash_table[new_target] \n",
    "        return count \n"
   ]
  }
 ],
 "metadata": {
  "kernelspec": {
   "display_name": "Python 3",
   "language": "python",
   "name": "python3"
  },
  "language_info": {
   "codemirror_mode": {
    "name": "ipython",
    "version": 3
   },
   "file_extension": ".py",
   "mimetype": "text/x-python",
   "name": "python",
   "nbconvert_exporter": "python",
   "pygments_lexer": "ipython3",
   "version": "3.6.7"
  }
 },
 "nbformat": 4,
 "nbformat_minor": 2
}
