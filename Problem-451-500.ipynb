{
 "cells": [
  {
   "cell_type": "markdown",
   "metadata": {},
   "source": [
    "454 - 4Sum II\n",
    "\n",
    "Given four lists A, B, C, D of integer values, compute how many tuples (i, j, k, l) there are such that A[i] + B[j] + C[k] + D[l] is zero."
   ]
  },
  {
   "cell_type": "code",
   "execution_count": null,
   "metadata": {},
   "outputs": [],
   "source": [
    "class Solution:\n",
    "    def fourSumCount(self, A: List[int], B: List[int], C: List[int], D: List[int]) -> int:\n",
    "        # corner case \n",
    "        if A is None or B is None or C is None or D is None:\n",
    "            return  0\n",
    "        # hash_table, key = sum(A[i] + B[j]), value = counts of key appearances \n",
    "        hash_table = {}\n",
    "        for i in range(len(A)):\n",
    "            for j in range(len(B)):\n",
    "                hash_table.setdefault(A[i] + B[j], 0)\n",
    "                hash_table[A[i] + B[j]] += 1 \n",
    "        # loop over C and D \n",
    "        count = 0 \n",
    "        for i in range(len(C)):\n",
    "            for j in range(len(D)):\n",
    "                new_target = - (C[i] + D[j])\n",
    "                if new_target in hash_table:\n",
    "                    count += hash_table[new_target] \n",
    "        return count \n"
   ]
  },
  {
   "cell_type": "markdown",
   "metadata": {},
   "source": [
    "463 - Island Perimeter\n",
    "\n",
    "You are given a map in form of a two-dimensional integer grid where 1 represents land and 0 represents water.\n",
    "\n",
    "Grid cells are connected horizontally/vertically (not diagonally). The grid is completely surrounded by water, and there is exactly one island (i.e., one or more connected land cells).\n",
    "\n",
    "The island doesn't have \"lakes\" (water inside that isn't connected to the water around the island). One cell is a square with side length 1. The grid is rectangular, width and height don't exceed 100. Determine the perimeter of the island.\n",
    "\n",
    " \n",
    "\n",
    "Example:\n",
    "\n",
    "Input:\n",
    "    \n",
    "[[0,1,0,0],\n",
    " \n",
    " [1,1,1,0],\n",
    " \n",
    " [0,1,0,0],\n",
    " \n",
    " [1,1,0,0]]\n",
    "\n",
    "Output: 16"
   ]
  },
  {
   "cell_type": "code",
   "execution_count": null,
   "metadata": {},
   "outputs": [],
   "source": [
    "# count the total number of edges all 1s and minus number of neighbor 1s for each 1 \n",
    "class Solution(object):\n",
    "    def islandPerimeter(self, grid):\n",
    "        \"\"\"\n",
    "        :type grid: List[List[int]]\n",
    "        :rtype: int\n",
    "        \"\"\"\n",
    "        if not grid or not grid[0]:\n",
    "            return 0 \n",
    "        ones = 0 \n",
    "        neighbors = 0 \n",
    "        \n",
    "        row, col = len(grid), len(grid[0])\n",
    "        for i in range(row):\n",
    "            for j in range(col):\n",
    "                if grid[i][j] == 1:\n",
    "                    ones += 1 \n",
    "                    if i > 0 and grid[i - 1][j] == 1:\n",
    "                        neighbors += 1 \n",
    "                    if i < row - 1 and grid[i + 1][j] == 1:\n",
    "                        neighbors += 1 \n",
    "                    if j > 0 and grid[i][j - 1] == 1:\n",
    "                        neighbors += 1 \n",
    "                    if j < col - 1 and grid[i][j + 1] == 1:\n",
    "                        neighbors += 1 \n",
    "        return ones * 4 - neighbors \n"
   ]
  }
 ],
 "metadata": {
  "kernelspec": {
   "display_name": "Python 3",
   "language": "python",
   "name": "python3"
  },
  "language_info": {
   "codemirror_mode": {
    "name": "ipython",
    "version": 3
   },
   "file_extension": ".py",
   "mimetype": "text/x-python",
   "name": "python",
   "nbconvert_exporter": "python",
   "pygments_lexer": "ipython3",
   "version": "3.6.8"
  }
 },
 "nbformat": 4,
 "nbformat_minor": 2
}
