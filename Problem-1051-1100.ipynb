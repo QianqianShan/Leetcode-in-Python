{
 "cells": [
  {
   "cell_type": "markdown",
   "metadata": {},
   "source": [
    "1051 - Height Checker\n",
    "\n",
    "Students are asked to stand in non-decreasing order of heights for an annual photo.\n",
    "\n",
    "Return the minimum number of students not standing in the right positions.  (This is the number of students that must move in order for all students to be standing in non-decreasing order of height.)"
   ]
  },
  {
   "cell_type": "code",
   "execution_count": null,
   "metadata": {},
   "outputs": [],
   "source": [
    "class Solution(object):\n",
    "    def heightChecker(self, heights):\n",
    "        \"\"\"\n",
    "        :type heights: List[int]\n",
    "        :rtype: int\n",
    "        \"\"\"\n",
    "        if not heights:\n",
    "            return 0 \n",
    "        sorted_heights = sorted(heights)\n",
    "        count = 0 \n",
    "        for i in range(len(heights)):\n",
    "            if heights[i] != sorted_heights[i]:\n",
    "                count += 1 \n",
    "        return count \n",
    "        "
   ]
  },
  {
   "cell_type": "markdown",
   "metadata": {},
   "source": [
    "1086 - High Five\n",
    "\n",
    "Given a list of scores of different students, return the average score of each student's top five scores in the order of each student's id.\n",
    "\n",
    "Each entry items[i] has items[i][0] the student's id, and items[i][1] the student's score.  The average score is calculated using integer division.\n",
    "\n",
    " \n",
    "\n",
    "Example 1:\n",
    "\n",
    "Input: [[1,91],[1,92],[2,93],[2,97],[1,60],[2,77],[1,65],[1,87],[1,100],[2,100],[2,76]]\n",
    "    \n",
    "Output: [[1,87],[2,88]]"
   ]
  },
  {
   "cell_type": "code",
   "execution_count": null,
   "metadata": {},
   "outputs": [],
   "source": [
    "# hash table and heap \n",
    "from heapq import heappush, heappop \n",
    "class Solution(object):\n",
    "    def highFive(self, items):\n",
    "        \"\"\"\n",
    "        :type items: List[List[int]]\n",
    "        :rtype: List[List[int]]\n",
    "        \"\"\"\n",
    "        if not items:\n",
    "            return []\n",
    "        # hash table with key = id, value = top 5 scores \n",
    "        hash_table = {}\n",
    "        for item in items:\n",
    "            if item[0] not in hash_table:\n",
    "                hash_table[item[0]] = []\n",
    "                heappush(hash_table[item[0]], item[1])\n",
    "            else:\n",
    "                heappush(hash_table[item[0]], item[1])\n",
    "                if len(hash_table[item[0]]) > 5:\n",
    "                    heappop(hash_table[item[0]])\n",
    "        # print(hash_table)\n",
    "        results = []\n",
    "        for ids in hash_table:\n",
    "            results.append([ids, sum(hash_table[ids]) / len(hash_table[ids])])\n",
    "        return results \n",
    "        "
   ]
  }
 ],
 "metadata": {
  "kernelspec": {
   "display_name": "Python 3",
   "language": "python",
   "name": "python3"
  },
  "language_info": {
   "codemirror_mode": {
    "name": "ipython",
    "version": 3
   },
   "file_extension": ".py",
   "mimetype": "text/x-python",
   "name": "python",
   "nbconvert_exporter": "python",
   "pygments_lexer": "ipython3",
   "version": "3.6.8"
  }
 },
 "nbformat": 4,
 "nbformat_minor": 2
}
