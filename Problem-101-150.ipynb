{
 "cells": [
  {
   "cell_type": "markdown",
   "metadata": {},
   "source": [
    "122 - Best Time to Buy and Sell Stock II\n",
    "\n",
    "Say you have an array for which the ith element is the price of a given stock on day i.\n",
    "\n",
    "Design an algorithm to find the maximum profit. You may complete as many transactions as you like (i.e., buy one and sell one share of the stock multiple times)."
   ]
  },
  {
   "cell_type": "code",
   "execution_count": null,
   "metadata": {},
   "outputs": [],
   "source": [
    "# 1. greedy, whenever the next day's price is higher, sell on the previous day and buy back the next day \n",
    "class Solution:\n",
    "    def maxProfit(self, prices: List[int]) -> int:\n",
    "        if not prices:\n",
    "            return 0\n",
    "        profit = 0 \n",
    "        for i in range(len(prices) - 1):\n",
    "            if prices[i] < prices[i + 1]:\n",
    "                profit += prices[i + 1] - prices[i]\n",
    "        return profit \n",
    "            "
   ]
  },
  {
   "cell_type": "markdown",
   "metadata": {},
   "source": [
    "141 - Linked List Cycle\n",
    "\n",
    "Given a linked list, determine if it has a cycle in it.\n",
    "\n"
   ]
  },
  {
   "cell_type": "code",
   "execution_count": null,
   "metadata": {},
   "outputs": [],
   "source": [
    "# Python 1: use a set to record visited nodes \n",
    "\"\"\"\n",
    "Definition of ListNode\n",
    "class ListNode(object):\n",
    "    def __init__(self, val, next=None):\n",
    "        self.val = val\n",
    "        self.next = next\n",
    "\"\"\"\n",
    "\n",
    "class Solution:\n",
    "    \"\"\"\n",
    "    @param head: The first node of linked list.\n",
    "    @return: True if it has a cycle, or false\n",
    "    \"\"\"\n",
    "    def hasCycle(self, head):\n",
    "        if not head:\n",
    "            return False\n",
    "        visited = set()\n",
    "        node = head \n",
    "        while node:\n",
    "            if node not in visited:\n",
    "                visited.add(node)\n",
    "                node = node.next \n",
    "            else:\n",
    "                return True \n",
    "        return False \n",
    "            \n",
    "        "
   ]
  },
  {
   "cell_type": "code",
   "execution_count": null,
   "metadata": {},
   "outputs": [],
   "source": [
    "# Python 2: two pointers \n",
    "\"\"\"\n",
    "Definition of ListNode\n",
    "class ListNode(object):\n",
    "    def __init__(self, val, next=None):\n",
    "        self.val = val\n",
    "        self.next = next\n",
    "\"\"\"\n",
    "\n",
    "class Solution:\n",
    "    \"\"\"\n",
    "    @param head: The first node of linked list.\n",
    "    @return: True if it has a cycle, or false\n",
    "    \"\"\"\n",
    "    def hasCycle(self, head):    \n",
    "        if not head:\n",
    "            return False \n",
    "        slow, fast = head, head.next \n",
    "        while fast is not None and fast.next is not None:\n",
    "            slow = slow.next \n",
    "            fast = fast.next.next \n",
    "            if slow == fast:\n",
    "                return True \n",
    "        return False"
   ]
  },
  {
   "cell_type": "markdown",
   "metadata": {},
   "source": [
    "142 - Linked List Cycle II\n",
    "\n",
    "Given a linked list, return the node where the cycle begins. If there is no cycle, return null.\n",
    "\n"
   ]
  },
  {
   "cell_type": "code",
   "execution_count": null,
   "metadata": {},
   "outputs": [],
   "source": [
    "# Python 1: use set, see Two pointers notebook for a more complicated method \n",
    "\"\"\"\n",
    "Definition of ListNode\n",
    "class ListNode(object):\n",
    "    def __init__(self, val, next=None):\n",
    "        self.val = val\n",
    "        self.next = next\n",
    "\"\"\"\n",
    "\n",
    "class Solution:\n",
    "    \"\"\"\n",
    "    @param head: The first node of linked list.\n",
    "    @return: The node where the cycle begins. if there is no cycle, return null\n",
    "    \"\"\"\n",
    "    def detectCycle(self, head):\n",
    "        if head is None:\n",
    "            return None\n",
    "        visited = set()\n",
    "        node = head \n",
    "        while node:\n",
    "            if node in visited:\n",
    "                return node \n",
    "            else:\n",
    "                visited.add(node)\n",
    "                node = node.next \n",
    "        return None \n"
   ]
  }
 ],
 "metadata": {
  "kernelspec": {
   "display_name": "Python 3",
   "language": "python",
   "name": "python3"
  },
  "language_info": {
   "codemirror_mode": {
    "name": "ipython",
    "version": 3
   },
   "file_extension": ".py",
   "mimetype": "text/x-python",
   "name": "python",
   "nbconvert_exporter": "python",
   "pygments_lexer": "ipython3",
   "version": "3.6.7"
  }
 },
 "nbformat": 4,
 "nbformat_minor": 2
}
