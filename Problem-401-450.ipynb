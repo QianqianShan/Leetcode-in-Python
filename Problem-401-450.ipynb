{
 "cells": [
  {
   "cell_type": "markdown",
   "metadata": {},
   "source": [
    "408 - Valid Word Abbreviation\n",
    "\n",
    "Given a non-empty string s and an abbreviation abbr, return whether the string matches with the given abbreviation.\n",
    "\n",
    "A string such as \"word\" contains only the following valid abbreviations:\n",
    "\n",
    "[\"word\", \"1ord\", \"w1rd\", \"wo1d\", \"wor1\", \"2rd\", \"w2d\", \"wo2\", \"1o1d\", \"1or1\", \"w1r1\", \"1o2\", \"2r1\", \"3d\", \"w3\", \"4\"]\n",
    "\n",
    "Notice that only the above abbreviations are valid abbreviations of the string \"word\". Any other string is not a valid abbreviation of \"word\".\n",
    "\n",
    "Example 1:\n",
    "\n",
    "Given s = \"internationalization\", abbr = \"i12iz4n\":\n",
    "\n",
    "Return true."
   ]
  },
  {
   "cell_type": "code",
   "execution_count": null,
   "metadata": {},
   "outputs": [],
   "source": [
    "class Solution(object):\n",
    "    def validWordAbbreviation(self, word, abbr):\n",
    "        \"\"\"\n",
    "        :type word: str\n",
    "        :type abbr: str\n",
    "        :rtype: bool\n",
    "        \"\"\"\n",
    "        i, j = 0, 0 \n",
    "        while i < len(word) and j < len(abbr):\n",
    "            # first tell if the current char is the same \n",
    "            if word[i] == abbr[j]:\n",
    "                i += 1\n",
    "                j += 1 \n",
    "        \n",
    "            # if abbr[j] is digit and is not zero \n",
    "            elif abbr[j] > '0' and abbr[j] <= '9':\n",
    "                # get all consecutive digits \n",
    "                val = 0 \n",
    "                while j < len(abbr) and abbr[j].isdigit():\n",
    "                    val = val * 10 + int(abbr[j])\n",
    "                    j += 1 \n",
    "                i += val \n",
    "                # print(word[i])\n",
    "                # print(abbr[j])\n",
    "            else:\n",
    "                # word[i] != abbr[j]\n",
    "                return False \n",
    "        # make sure the both word and abbr have traversed all and only all chars \n",
    "        # i may be > len(word), in which case it should be false \n",
    "        return i == len(word) and j == len(abbr)\n",
    "            "
   ]
  },
  {
   "cell_type": "markdown",
   "metadata": {},
   "source": [
    "448 - Find All Numbers Disappeared in an Array\n",
    "\n",
    "Given an array of integers where 1 ≤ a[i] ≤ n (n = size of array), some elements appear twice and others appear once.\n",
    "\n",
    "Find all the elements of [1, n] inclusive that do not appear in this array.\n",
    "\n",
    "**Could you do it without extra space and in O(n) runtime?** You may assume the returned list does not count as extra space.\n",
    "\n",
    "Example:\n",
    "\n",
    "Input:\n",
    "[4,3,2,7,8,2,3,1]\n",
    "\n",
    "Output:\n",
    "[5,6]"
   ]
  },
  {
   "cell_type": "code",
   "execution_count": null,
   "metadata": {},
   "outputs": [],
   "source": [
    "# hash table \n",
    "class Solution(object):\n",
    "    def findDisappearedNumbers(self, nums):\n",
    "        \"\"\"\n",
    "        :type nums: List[int]\n",
    "        :rtype: List[int]\n",
    "        \"\"\"\n",
    "        if not nums:\n",
    "            return []\n",
    "        hash_table = {i:0 for i in range(1, len(nums) + 1)}\n",
    "\n",
    "        for num in nums:\n",
    "            hash_table[num] += 1 \n",
    "        return [i for i in hash_table if hash_table[i] == 0]\n",
    "        "
   ]
  },
  {
   "cell_type": "code",
   "execution_count": null,
   "metadata": {},
   "outputs": [],
   "source": []
  }
 ],
 "metadata": {
  "kernelspec": {
   "display_name": "Python 3",
   "language": "python",
   "name": "python3"
  },
  "language_info": {
   "codemirror_mode": {
    "name": "ipython",
    "version": 3
   },
   "file_extension": ".py",
   "mimetype": "text/x-python",
   "name": "python",
   "nbconvert_exporter": "python",
   "pygments_lexer": "ipython3",
   "version": "3.6.8"
  }
 },
 "nbformat": 4,
 "nbformat_minor": 2
}
