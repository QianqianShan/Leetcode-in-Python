{
 "cells": [
  {
   "cell_type": "markdown",
   "metadata": {},
   "source": [
    "1128 - Number of Equivalent Domino Pairs\n",
    "\n",
    "\n",
    "Given a list of dominoes, dominoes[i] = [a, b] is equivalent to dominoes[j] = [c, d] if and only if either (a==c and b==d), or (a==d and b==c) - that is, one domino can be rotated to be equal to another domino.\n",
    "\n",
    "Return the number of pairs (i, j) for which 0 <= i < j < dominoes.length, and dominoes[i] is equivalent to dominoes[j].\n",
    "\n",
    " \n",
    "\n",
    "Example 1:\n",
    "\n",
    "Input: dominoes = [[1,2],[2,1],[3,4],[5,6]]\n",
    "\n",
    "Output: 1"
   ]
  },
  {
   "cell_type": "code",
   "execution_count": null,
   "metadata": {},
   "outputs": [],
   "source": [
    "class Solution(object):\n",
    "    def numEquivDominoPairs(self, dominoes):\n",
    "        \"\"\"\n",
    "        :type dominoes: List[List[int]]\n",
    "        :rtype: int\n",
    "        \"\"\"\n",
    "        if not dominoes:\n",
    "            return 0\n",
    "        hash_table = {}\n",
    "        for nums in dominoes: \n",
    "            nums.sort()\n",
    "            key =  (nums[0], nums[1])\n",
    "            if key in hash_table:\n",
    "                hash_table[key] += 1 \n",
    "            else:\n",
    "                hash_table[key] = 1 \n",
    "        # print(hash_table)\n",
    "        count = 0 \n",
    "        for key in hash_table:\n",
    "            if hash_table[key] > 1:\n",
    "                count += (hash_table[key] * (hash_table[key] - 1))/2\n",
    "                # print(count)\n",
    "        return count "
   ]
  }
 ],
 "metadata": {
  "kernelspec": {
   "display_name": "Python 3",
   "language": "python",
   "name": "python3"
  },
  "language_info": {
   "codemirror_mode": {
    "name": "ipython",
    "version": 3
   },
   "file_extension": ".py",
   "mimetype": "text/x-python",
   "name": "python",
   "nbconvert_exporter": "python",
   "pygments_lexer": "ipython3",
   "version": "3.6.8"
  }
 },
 "nbformat": 4,
 "nbformat_minor": 2
}
