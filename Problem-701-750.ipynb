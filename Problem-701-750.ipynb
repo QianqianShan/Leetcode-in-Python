{
 "cells": [
  {
   "cell_type": "markdown",
   "metadata": {},
   "source": [
    "703 - Kth Largest Element in a Stream\n",
    "\n",
    "Design a class to find the kth largest element in a stream. Note that it is the kth largest element in the sorted order, not the kth distinct element.\n",
    "\n",
    "Your KthLargest class will have a constructor which accepts an integer k and an integer array nums, which contains initial elements from the stream. For each call to the method KthLargest.add, return the element representing the kth largest element in the stream."
   ]
  },
  {
   "cell_type": "code",
   "execution_count": null,
   "metadata": {},
   "outputs": [],
   "source": [
    "from heapq import heappush, heappop, nsmallest \n",
    "class KthLargest:\n",
    "\n",
    "    def __init__(self, k: int, nums: List[int]):\n",
    "        self.heap = []\n",
    "        self.size = k\n",
    "        for num in nums:\n",
    "            heappush(self.heap, num)\n",
    "            if len(self.heap) > self.size:\n",
    "                heappop(self.heap)\n",
    "        \n",
    "        \n",
    "\n",
    "    def add(self, val: int) -> int:\n",
    "        heappush(self.heap, val)\n",
    "        if len(self.heap) > self.size:\n",
    "            heappop(self.heap)\n",
    "        return self.heap[0]\n",
    "        # return nsmallest(1, self.heap)\n",
    "        \n",
    "        \n",
    "\n",
    "\n",
    "# Your KthLargest object will be instantiated and called as such:\n",
    "# obj = KthLargest(k, nums)\n",
    "# param_1 = obj.add(val)"
   ]
  },
  {
   "cell_type": "markdown",
   "metadata": {},
   "source": [
    "714 - Best Time to Buy and Sell Stock with Transaction Fee\n",
    "\n",
    "Your are given an array of integers prices, for which the i-th element is the price of a given stock on day i; and a non-negative integer fee representing a transaction fee.\n",
    "\n",
    "You may complete as many transactions as you like, but you need to pay the transaction fee for each transaction. You may not buy more than 1 share of a stock at a time (ie. you must sell the stock share before you buy again.)\n",
    "\n",
    "Return the maximum profit you can make.\n",
    "\n",
    "Example 1:\n",
    "    \n",
    "Input: prices = [1, 3, 2, 8, 4, 9], fee = 2\n",
    "    \n",
    "Output: 8"
   ]
  },
  {
   "cell_type": "code",
   "execution_count": null,
   "metadata": {},
   "outputs": [],
   "source": [
    "class Solution(object):\n",
    "    def maxProfit(self, prices, fee):\n",
    "        \"\"\"\n",
    "        :type prices: List[int]\n",
    "        :type fee: int\n",
    "        :rtype: int\n",
    "        \"\"\"\n",
    "        # corner case \n",
    "        if not prices or fee is None:\n",
    "            return 0\n",
    "        \n",
    "        # loop\n",
    "        max_profit = 0 \n",
    "        cur_cost = - prices[0]\n",
    "        for i in range(1, len(prices)):\n",
    "            max_profit = max(max_profit, cur_cost + prices[i] - fee)\n",
    "            cur_cost = max(cur_cost, max_profit - prices[i])\n",
    "        return max_profit"
   ]
  }
 ],
 "metadata": {
  "kernelspec": {
   "display_name": "Python 3",
   "language": "python",
   "name": "python3"
  },
  "language_info": {
   "codemirror_mode": {
    "name": "ipython",
    "version": 3
   },
   "file_extension": ".py",
   "mimetype": "text/x-python",
   "name": "python",
   "nbconvert_exporter": "python",
   "pygments_lexer": "ipython3",
   "version": "3.6.7"
  }
 },
 "nbformat": 4,
 "nbformat_minor": 2
}
