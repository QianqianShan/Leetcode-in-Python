{
 "cells": [
  {
   "cell_type": "markdown",
   "metadata": {},
   "source": [
    "703 - Kth Largest Element in a Stream\n",
    "\n",
    "Design a class to find the kth largest element in a stream. Note that it is the kth largest element in the sorted order, not the kth distinct element.\n",
    "\n",
    "Your KthLargest class will have a constructor which accepts an integer k and an integer array nums, which contains initial elements from the stream. For each call to the method KthLargest.add, return the element representing the kth largest element in the stream."
   ]
  },
  {
   "cell_type": "code",
   "execution_count": null,
   "metadata": {},
   "outputs": [],
   "source": [
    "from heapq import heappush, heappop, nsmallest \n",
    "class KthLargest:\n",
    "\n",
    "    def __init__(self, k: int, nums: List[int]):\n",
    "        self.heap = []\n",
    "        self.size = k\n",
    "        for num in nums:\n",
    "            heappush(self.heap, num)\n",
    "            if len(self.heap) > self.size:\n",
    "                heappop(self.heap)\n",
    "        \n",
    "        \n",
    "\n",
    "    def add(self, val: int) -> int:\n",
    "        heappush(self.heap, val)\n",
    "        if len(self.heap) > self.size:\n",
    "            heappop(self.heap)\n",
    "        return self.heap[0]\n",
    "        # return nsmallest(1, self.heap)\n",
    "        \n",
    "        \n",
    "\n",
    "\n",
    "# Your KthLargest object will be instantiated and called as such:\n",
    "# obj = KthLargest(k, nums)\n",
    "# param_1 = obj.add(val)"
   ]
  },
  {
   "cell_type": "markdown",
   "metadata": {},
   "source": [
    "714 - Best Time to Buy and Sell Stock with Transaction Fee\n",
    "\n",
    "Your are given an array of integers prices, for which the i-th element is the price of a given stock on day i; and a non-negative integer fee representing a transaction fee.\n",
    "\n",
    "You may complete as many transactions as you like, but you need to pay the transaction fee for each transaction. You may not buy more than 1 share of a stock at a time (ie. you must sell the stock share before you buy again.)\n",
    "\n",
    "Return the maximum profit you can make.\n",
    "\n",
    "Example 1:\n",
    "    \n",
    "Input: prices = [1, 3, 2, 8, 4, 9], fee = 2\n",
    "    \n",
    "Output: 8"
   ]
  },
  {
   "cell_type": "code",
   "execution_count": null,
   "metadata": {},
   "outputs": [],
   "source": [
    "class Solution(object):\n",
    "    def maxProfit(self, prices, fee):\n",
    "        \"\"\"\n",
    "        :type prices: List[int]\n",
    "        :type fee: int\n",
    "        :rtype: int\n",
    "        \"\"\"\n",
    "        # corner case \n",
    "        if not prices or fee is None:\n",
    "            return 0\n",
    "        \n",
    "        # loop\n",
    "        max_profit = 0 \n",
    "        cur_cost = - prices[0]\n",
    "        for i in range(1, len(prices)):\n",
    "            max_profit = max(max_profit, cur_cost + prices[i] - fee)\n",
    "            cur_cost = max(cur_cost, max_profit - prices[i])\n",
    "        return max_profit"
   ]
  },
  {
   "cell_type": "markdown",
   "metadata": {},
   "source": [
    "739 - Daily Temperatures\n",
    "\n",
    "Given a list of daily temperatures T, return a list such that, for each day in the input, tells you how many days you would have to wait until a warmer temperature. If there is no future day for which this is possible, put 0 instead.\n",
    "\n",
    "For example, given the list of temperatures T = [73, 74, 75, 71, 69, 72, 76, 73], your output should be [1, 1, 4, 2, 1, 1, 0, 0].\n",
    "\n",
    "Note: The length of temperatures will be in the range [1, 30000]. Each temperature will be an integer in the range [30, 100]."
   ]
  },
  {
   "cell_type": "code",
   "execution_count": null,
   "metadata": {},
   "outputs": [],
   "source": [
    "# stack \n",
    "# from end to start, append the index i into stack \n",
    "# if the current T[i] >= the most recent T value from T[i + 1], ..., pop it out \n",
    "\n",
    "# example: T = [73, 74, 75, 71, 69, 72, 76, 73]\n",
    "# i = len(T) -1 = 7, T[7] = 73, stack = [7]\n",
    "# i = 6, T[6] = 76, stack = [6] \n",
    "# i = 5,  T[5] = 72,  results[5] = 6 - 5 = 1 , stack = [5, 6]\n",
    "# i = 4, T[4] = 69,  results[4] = 5 - 4 = 1, stack = [4, 5, 6]\n",
    "# i = 3, T[3] = 71, stack = [5, 6], results[3] = 5 - 3 = 2, stack = [3, 5, 6]\n",
    "# i = 2, T[2] = 75, stack = [6], results[2] = 6 - 2 = 4, stack = [2, 6]\n",
    "# i = 1, T[1] = 74, results[1] = 2 -1 = 1, stack = [1, 2, 6]\n",
    "# i = 0, T[0] = 73, results[0] = 1 - 0 = 1 , stack = [0, 1, 2, 6]\n",
    "class Solution(object):\n",
    "    def dailyTemperatures(self, T):\n",
    "        \"\"\"\n",
    "        :type T: List[int]\n",
    "        :rtype: List[int]\n",
    "        \"\"\"\n",
    "        if not T:\n",
    "            return []\n",
    "        # initialization \n",
    "        results = [0 for _ in range(len(T))]\n",
    "        stack = []\n",
    "        # loop from end to start of T \n",
    "        for i in range(len(T) - 1, -1, -1):\n",
    "            # if stack is not empty and the current T[i] >= top element of stack \n",
    "            # keep popping out \n",
    "            while stack and T[i] >= T[stack[-1]]:\n",
    "                stack.pop()\n",
    "            # if stack is not empty after the popping above,\n",
    "            # results[i] is the index difference\n",
    "            # if stack is empty, results[i] keeps to be 0 \n",
    "            if stack:\n",
    "                results[i] = stack[-1] - i \n",
    "            # append the current index in stack \n",
    "            stack.append(i)\n",
    "        return results \n",
    "        "
   ]
  }
 ],
 "metadata": {
  "kernelspec": {
   "display_name": "Python 3",
   "language": "python",
   "name": "python3"
  },
  "language_info": {
   "codemirror_mode": {
    "name": "ipython",
    "version": 3
   },
   "file_extension": ".py",
   "mimetype": "text/x-python",
   "name": "python",
   "nbconvert_exporter": "python",
   "pygments_lexer": "ipython3",
   "version": "3.6.8"
  }
 },
 "nbformat": 4,
 "nbformat_minor": 2
}
