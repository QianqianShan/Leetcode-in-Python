{
 "cells": [
  {
   "cell_type": "markdown",
   "metadata": {},
   "source": [
    "703 - Kth Largest Element in a Stream\n",
    "\n",
    "Design a class to find the kth largest element in a stream. Note that it is the kth largest element in the sorted order, not the kth distinct element.\n",
    "\n",
    "Your KthLargest class will have a constructor which accepts an integer k and an integer array nums, which contains initial elements from the stream. For each call to the method KthLargest.add, return the element representing the kth largest element in the stream."
   ]
  },
  {
   "cell_type": "code",
   "execution_count": null,
   "metadata": {},
   "outputs": [],
   "source": [
    "from heapq import heappush, heappop, nsmallest \n",
    "class KthLargest:\n",
    "\n",
    "    def __init__(self, k: int, nums: List[int]):\n",
    "        self.heap = []\n",
    "        self.size = k\n",
    "        for num in nums:\n",
    "            heappush(self.heap, num)\n",
    "            if len(self.heap) > self.size:\n",
    "                heappop(self.heap)\n",
    "        \n",
    "        \n",
    "\n",
    "    def add(self, val: int) -> int:\n",
    "        heappush(self.heap, val)\n",
    "        if len(self.heap) > self.size:\n",
    "            heappop(self.heap)\n",
    "        return self.heap[0]\n",
    "        # return nsmallest(1, self.heap)\n",
    "        \n",
    "        \n",
    "\n",
    "\n",
    "# Your KthLargest object will be instantiated and called as such:\n",
    "# obj = KthLargest(k, nums)\n",
    "# param_1 = obj.add(val)"
   ]
  }
 ],
 "metadata": {
  "kernelspec": {
   "display_name": "Python 3",
   "language": "python",
   "name": "python3"
  },
  "language_info": {
   "codemirror_mode": {
    "name": "ipython",
    "version": 3
   },
   "file_extension": ".py",
   "mimetype": "text/x-python",
   "name": "python",
   "nbconvert_exporter": "python",
   "pygments_lexer": "ipython3",
   "version": "3.6.7"
  }
 },
 "nbformat": 4,
 "nbformat_minor": 2
}
