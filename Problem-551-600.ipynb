{
 "cells": [
  {
   "cell_type": "markdown",
   "metadata": {},
   "source": [
    "560 - Subarray Sum Equals K\n",
    "\n",
    "Given an array of integers and an integer k, you need to find the total number of continuous subarrays whose sum equals to k.\n",
    "\n",
    "Example 1:\n",
    "    \n",
    "Input:nums = [1,1,1], k = 2\n",
    "    \n",
    "Output: 2"
   ]
  },
  {
   "cell_type": "code",
   "execution_count": null,
   "metadata": {},
   "outputs": [],
   "source": [
    "# brute force time limit exceed \n",
    "class Solution(object):\n",
    "    def subarraySum(self, nums, k):\n",
    "        \"\"\"\n",
    "        :type nums: List[int]\n",
    "        :type k: int\n",
    "        :rtype: int\n",
    "        \"\"\"\n",
    "        if nums is None and k is None:\n",
    "            return \n",
    "        prefix_sum = [nums[0]]\n",
    "        for i in range(1, len(nums)):\n",
    "            prefix_sum.append(nums[i] + prefix_sum[-1])\n",
    "        # print(prefix_sum)\n",
    "        \n",
    "        slow, fast = 0, 0 \n",
    "        count = 0 \n",
    "        for slow in range(len(nums)):\n",
    "            for fast in range(slow, len(nums)):\n",
    "                cur_sum = sum(nums[slow : fast + 1])\n",
    "                if  cur_sum == k:\n",
    "                    count += 1 \n",
    "        return count \n",
    "\n",
    "                \n",
    "        "
   ]
  },
  {
   "cell_type": "code",
   "execution_count": null,
   "metadata": {},
   "outputs": [],
   "source": [
    "# hash table \n",
    "# 1. compute the prefix sum array\n",
    "# 2. loop each location of the prefix_sum, for each location,\n",
    "#     check if prefix_sum[i] - k exists in the current hash table\n",
    "#     add the current prefix_sum into the current hash table and use \n",
    "#     the value of dictionary to count how many times the current prefix_sum appear \n",
    "class Solution(object):\n",
    "    def subarraySum(self, nums, k):\n",
    "        \"\"\"\n",
    "        :type nums: List[int]\n",
    "        :type k: int\n",
    "        :rtype: int\n",
    "        \"\"\"\n",
    "        if nums is None and k is None:\n",
    "            return \n",
    "        # prefix sum \n",
    "        prefix_sum = [nums[0]]\n",
    "        for i in range(1, len(nums)):\n",
    "            prefix_sum.append(nums[i] + prefix_sum[-1])\n",
    "        # print(prefix_sum)\n",
    "        # dictionary (key, value) = (prefix_sum[i], count)\n",
    "        prefix_dict = {0:1}\n",
    "        count = 0\n",
    "        for i in range(len(nums)):\n",
    "            if prefix_sum[i] - k in prefix_dict:\n",
    "                count += prefix_dict[prefix_sum[i] -k]\n",
    "            if prefix_sum[i] not in prefix_dict:\n",
    "                prefix_dict[prefix_sum[i]] = 1\n",
    "            else:\n",
    "                prefix_dict[prefix_sum[i]] += 1 \n",
    "        return count \n",
    "    "
   ]
  }
 ],
 "metadata": {
  "kernelspec": {
   "display_name": "Python 3",
   "language": "python",
   "name": "python3"
  },
  "language_info": {
   "codemirror_mode": {
    "name": "ipython",
    "version": 3
   },
   "file_extension": ".py",
   "mimetype": "text/x-python",
   "name": "python",
   "nbconvert_exporter": "python",
   "pygments_lexer": "ipython3",
   "version": "3.6.8"
  }
 },
 "nbformat": 4,
 "nbformat_minor": 2
}
