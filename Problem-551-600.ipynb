{
 "cells": [
  {
   "cell_type": "markdown",
   "metadata": {},
   "source": [
    "560 - Subarray Sum Equals K\n",
    "\n",
    "Given an array of integers and an integer k, you need to find the total number of continuous subarrays whose sum equals to k.\n",
    "\n",
    "Example 1:\n",
    "    \n",
    "Input:nums = [1,1,1], k = 2\n",
    "    \n",
    "Output: 2"
   ]
  },
  {
   "cell_type": "code",
   "execution_count": null,
   "metadata": {},
   "outputs": [],
   "source": [
    "# brute force time limit exceed \n",
    "class Solution(object):\n",
    "    def subarraySum(self, nums, k):\n",
    "        \"\"\"\n",
    "        :type nums: List[int]\n",
    "        :type k: int\n",
    "        :rtype: int\n",
    "        \"\"\"\n",
    "        if nums is None and k is None:\n",
    "            return \n",
    "        prefix_sum = [nums[0]]\n",
    "        for i in range(1, len(nums)):\n",
    "            prefix_sum.append(nums[i] + prefix_sum[-1])\n",
    "        # print(prefix_sum)\n",
    "        \n",
    "        slow, fast = 0, 0 \n",
    "        count = 0 \n",
    "        for slow in range(len(nums)):\n",
    "            for fast in range(slow, len(nums)):\n",
    "                cur_sum = sum(nums[slow : fast + 1])\n",
    "                if  cur_sum == k:\n",
    "                    count += 1 \n",
    "        return count \n",
    "\n",
    "                \n",
    "        "
   ]
  },
  {
   "cell_type": "code",
   "execution_count": null,
   "metadata": {},
   "outputs": [],
   "source": [
    "# hash table \n",
    "# 1. compute the prefix sum array\n",
    "# 2. loop each location of the prefix_sum, for each location,\n",
    "#     check if prefix_sum[i] - k exists in the current hash table\n",
    "#     add the current prefix_sum into the current hash table and use \n",
    "#     the value of dictionary to count how many times the current prefix_sum appear \n",
    "class Solution(object):\n",
    "    def subarraySum(self, nums, k):\n",
    "        \"\"\"\n",
    "        :type nums: List[int]\n",
    "        :type k: int\n",
    "        :rtype: int\n",
    "        \"\"\"\n",
    "        if nums is None and k is None:\n",
    "            return \n",
    "        # prefix sum \n",
    "        prefix_sum = [nums[0]]\n",
    "        for i in range(1, len(nums)):\n",
    "            prefix_sum.append(nums[i] + prefix_sum[-1])\n",
    "        # print(prefix_sum)\n",
    "        # dictionary (key, value) = (prefix_sum[i], count)\n",
    "        prefix_dict = {0:1}\n",
    "        count = 0\n",
    "        for i in range(len(nums)):\n",
    "            if prefix_sum[i] - k in prefix_dict:\n",
    "                count += prefix_dict[prefix_sum[i] -k]\n",
    "            if prefix_sum[i] not in prefix_dict:\n",
    "                prefix_dict[prefix_sum[i]] = 1\n",
    "            else:\n",
    "                prefix_dict[prefix_sum[i]] += 1 \n",
    "        return count \n",
    "    "
   ]
  },
  {
   "cell_type": "markdown",
   "metadata": {},
   "source": [
    "561 - Array Partition I\n",
    "\n",
    "Given an array of 2n integers, your task is to group these integers into n pairs of integer, say (a1, b1), (a2, b2), ..., (an, bn) which makes sum of min(ai, bi) for all i from 1 to n as large as possible.\n",
    "\n",
    "Example 1:\n",
    "Input: [1,4,3,2]\n",
    "\n",
    "Output: 4\n",
    "    \n",
    "Explanation: n is 2, and the maximum sum of pairs is 4 = min(1, 2) + min(3, 4).\n"
   ]
  },
  {
   "cell_type": "code",
   "execution_count": null,
   "metadata": {},
   "outputs": [],
   "source": [
    "# sort the array, we want the sum of min values of each pair to be as big as possible \n",
    "# special case: if there are only two numbers, the bigger number cannot be min, so the second \n",
    "#               largest number is the max sum \n",
    "# extend to cases with more numbers, we want to keep the second largest, the fourth largets ...\n",
    "# as min for each pair\n",
    "class Solution(object):\n",
    "    def arrayPairSum(self, nums):\n",
    "        \"\"\"\n",
    "        :type nums: List[int]\n",
    "        :rtype: int\n",
    "        \"\"\"\n",
    "        if not nums:\n",
    "            return 0 \n",
    "        nums.sort()\n",
    "        return sum(nums[::2])\n",
    "        "
   ]
  },
  {
   "cell_type": "markdown",
   "metadata": {},
   "source": [
    "581 -  Shortest Unsorted Continuous Subarray\n",
    "\n",
    "Given an integer array, you need to find one continuous subarray that if you only sort this subarray in ascending order, then the whole array will be sorted in ascending order, too.\n",
    "\n",
    "You need to find the shortest such subarray and output its length.\n",
    "\n",
    "Example 1:\n",
    "\n",
    "Input: [2, 6, 4, 8, 10, 9, 15]\n",
    "\n",
    "Output: 5\n",
    "\n",
    "Explanation: You need to sort [6, 4, 8, 10, 9] in ascending order to make the whole array sorted in ascending order."
   ]
  },
  {
   "cell_type": "code",
   "execution_count": null,
   "metadata": {},
   "outputs": [],
   "source": [
    "# sort and compare\n",
    "class Solution(object):\n",
    "    def findUnsortedSubarray(self, nums):\n",
    "        \"\"\"\n",
    "        :type nums: List[int]\n",
    "        :rtype: int\n",
    "        \"\"\"\n",
    "        if not nums:\n",
    "            return \n",
    "        sorted_nums = sorted(nums)\n",
    "        \n",
    "        answer = len(nums)\n",
    "        while answer > 0 and nums[answer - 1] == sorted_nums[answer - 1]:\n",
    "            answer -= 1 \n",
    "        for i in range(answer):\n",
    "            if nums[i] == sorted_nums[i]:\n",
    "                answer -= 1 \n",
    "            else:\n",
    "                break\n",
    "        return answer\n",
    "        "
   ]
  }
 ],
 "metadata": {
  "kernelspec": {
   "display_name": "Python 3",
   "language": "python",
   "name": "python3"
  },
  "language_info": {
   "codemirror_mode": {
    "name": "ipython",
    "version": 3
   },
   "file_extension": ".py",
   "mimetype": "text/x-python",
   "name": "python",
   "nbconvert_exporter": "python",
   "pygments_lexer": "ipython3",
   "version": "3.6.8"
  }
 },
 "nbformat": 4,
 "nbformat_minor": 2
}
