{
 "cells": [
  {
   "cell_type": "markdown",
   "metadata": {},
   "source": [
    "1 - Two Sum\n"
   ]
  },
  {
   "cell_type": "code",
   "execution_count": null,
   "metadata": {},
   "outputs": [],
   "source": [
    "# 1. hash table \n",
    "class Solution:\n",
    "    def twoSum(self, nums, target):\n",
    "        if not nums:\n",
    "            return [-1, -1]\n",
    "        hash_dict = {}\n",
    "        for i, num in enumerate(nums):\n",
    "            if target - num in hash_dict:\n",
    "                return [hash_dict[target - num], i]\n",
    "            else: \n",
    "                hash_dict[num] = i\n",
    "        return [-1, -1]\n",
    "            \n"
   ]
  },
  {
   "cell_type": "code",
   "execution_count": 31,
   "metadata": {},
   "outputs": [],
   "source": [
    "# 2. use sort and two pointers \n",
    "class Solution:\n",
    "    def twoSum(self, nums, target):\n",
    "        if not nums:\n",
    "            return [-1, -1]\n",
    "        orig = nums[:]\n",
    "        nums.sort()\n",
    "        left, right = 0, len(nums) - 1 \n",
    "        while left < right:\n",
    "            if nums[left] + nums[right] > target:\n",
    "                right -= 1 \n",
    "            elif nums[left] + nums[right] < target:\n",
    "                left += 1 \n",
    "            else: \n",
    "                if nums[left] == nums[right]:\n",
    "                    return sorted([loc for loc in range(len(orig)) if orig[loc] == nums[left]])\n",
    "                else:\n",
    "                    return [orig.index(nums[left]), orig.index(nums[right])]\n",
    "        return [-1, -1]\n",
    "        "
   ]
  },
  {
   "cell_type": "code",
   "execution_count": 32,
   "metadata": {},
   "outputs": [
    {
     "data": {
      "text/plain": [
       "[1, 2]"
      ]
     },
     "execution_count": 32,
     "metadata": {},
     "output_type": "execute_result"
    }
   ],
   "source": [
    "Solution().twoSum(nums = [2, 5, 5, 11], target = 10)\n"
   ]
  },
  {
   "cell_type": "markdown",
   "metadata": {},
   "source": [
    "20 - Valid Parentheses\n",
    "\n",
    "Given a string containing just the characters '(', ')', '{', '}', '[' and ']', determine if the input string is valid.\n",
    "\n",
    "An input string is valid if:\n",
    "\n",
    "Open brackets must be closed by the same type of brackets.\n",
    "\n",
    "Open brackets must be closed in the correct order.\n",
    "\n",
    "* stack\n"
   ]
  },
  {
   "cell_type": "code",
   "execution_count": null,
   "metadata": {},
   "outputs": [],
   "source": [
    "class Solution:\n",
    "    def isValid(self, s: str) -> bool:\n",
    "        paren_dict = {')':'(', '}':'{', ']':'['}\n",
    "        stack = []\n",
    "        for char in s:\n",
    "            # if char is not right bracket\n",
    "            if char not in paren_dict:\n",
    "                stack.append(char)\n",
    "            elif len(stack) == 0:\n",
    "                return False\n",
    "            else:\n",
    "                # now stack is not empty and stack.pop() exists \n",
    "                if paren_dict[char] != stack.pop():\n",
    "                    return False \n",
    "        # make sure stack is empty after loop through all elements \n",
    "        return len(stack) == 0\n"
   ]
  },
  {
   "cell_type": "markdown",
   "metadata": {},
   "source": [
    "24 - Swap Nodes in Pairs\n",
    "\n",
    "Given a linked list, swap every two adjacent nodes and return its head.\n",
    "\n",
    "You may not modify the values in the list's nodes, only nodes itself may be changed.\n",
    "\n",
    " \n",
    "\n",
    "Example:\n",
    "\n",
    "Given 1->2->3->4, you should return the list as 2->1->4->3."
   ]
  },
  {
   "cell_type": "code",
   "execution_count": null,
   "metadata": {},
   "outputs": [],
   "source": [
    "# Record prev.next, prev.next.next, prev.next.next.next as a, b ,c  and set a = b, b = a, a = c\n",
    "# Definition for singly-linked list.\n",
    "# class ListNode:\n",
    "#     def __init__(self, x):\n",
    "#         self.val = x\n",
    "#         self.next = None\n",
    "\n",
    "class Solution:\n",
    "    def swapPairs(self, head: ListNode) -> ListNode:\n",
    "        if head is None:\n",
    "            return head \n",
    "        # create a dummy node \n",
    "        dummy = ListNode(-1)\n",
    "        dummy.next = head \n",
    "        \n",
    "        # initialize prev node \n",
    "        prev = dummy \n",
    "        while prev.next and prev.next.next:\n",
    "            a = prev.next \n",
    "            b = a.next \n",
    "            c = b.next \n",
    "            \n",
    "            a.next = c \n",
    "            b.next = a \n",
    "            prev.next = b \n",
    "            \n",
    "            # update prev for next pair's swap \n",
    "            prev = a \n",
    "        return dummy.next "
   ]
  },
  {
   "cell_type": "markdown",
   "metadata": {},
   "source": [
    "25 -  Reverse Nodes in k-Group\n",
    "\n",
    "Given a linked list, reverse the nodes of a linked list k at a time and return its modified list.\n",
    "\n",
    "Example:\n",
    "\n",
    "Given this linked list: 1->2->3->4->5\n",
    "\n",
    "For k = 2, you should return: 2->1->4->3->5"
   ]
  },
  {
   "cell_type": "code",
   "execution_count": null,
   "metadata": {},
   "outputs": [],
   "source": [
    "# Definition for singly-linked list.\n",
    "# class ListNode(object):\n",
    "#     def __init__(self, x):\n",
    "#         self.val = x\n",
    "#         self.next = None\n",
    "\n",
    "class Solution(object):\n",
    "    def reverseKGroup(self, head, k):\n",
    "        \"\"\"\n",
    "        :type head: ListNode\n",
    "        :type k: int\n",
    "        :rtype: ListNode\n",
    "        \"\"\"\n",
    "        # corner case \n",
    "        if not head or k == 1:\n",
    "            return head \n",
    "        # dummy node \n",
    "        dummy = ListNode(-1)\n",
    "        dummy.next = head \n",
    "        prev = dummy \n",
    "        \n",
    "        while prev.next:\n",
    "            cur_node = prev \n",
    "            # find the 'tail' for a k-group nodes \n",
    "            for _ in range(k):\n",
    "                cur_node = cur_node.next \n",
    "                if cur_node is None:\n",
    "                    return dummy.next \n",
    "            # reverse k-group linked lists, similar to problem 206 reverse linked list \n",
    "            self.reverse(prev.next, cur_node)\n",
    "            # head for the next k-group to be reversed \n",
    "            next_prev = prev.next \n",
    "            # update prev.next \n",
    "            prev.next = cur_node\n",
    "            # update prev \n",
    "            prev = next_prev\n",
    "        return dummy.next \n",
    "            \n",
    "    def reverse(self, head, tail):\n",
    "        tail_next = tail.next \n",
    "        cur, prev = head, tail_next \n",
    "        while cur != tail_next:\n",
    "            cur.next, cur, prev = prev, cur.next, cur \n",
    "        "
   ]
  }
 ],
 "metadata": {
  "kernelspec": {
   "display_name": "Python 3",
   "language": "python",
   "name": "python3"
  },
  "language_info": {
   "codemirror_mode": {
    "name": "ipython",
    "version": 3
   },
   "file_extension": ".py",
   "mimetype": "text/x-python",
   "name": "python",
   "nbconvert_exporter": "python",
   "pygments_lexer": "ipython3",
   "version": "3.6.7"
  }
 },
 "nbformat": 4,
 "nbformat_minor": 2
}
