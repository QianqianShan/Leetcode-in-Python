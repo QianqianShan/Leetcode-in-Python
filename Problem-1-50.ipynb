{
 "cells": [
  {
   "cell_type": "markdown",
   "metadata": {},
   "source": [
    "24 - Swap Nodes in Pairs\n",
    "\n",
    "Given a linked list, swap every two adjacent nodes and return its head.\n",
    "\n",
    "You may not modify the values in the list's nodes, only nodes itself may be changed.\n",
    "\n",
    " \n",
    "\n",
    "Example:\n",
    "\n",
    "Given 1->2->3->4, you should return the list as 2->1->4->3."
   ]
  },
  {
   "cell_type": "code",
   "execution_count": null,
   "metadata": {},
   "outputs": [],
   "source": [
    "# Record prev.next, prev.next.next, prev.next.next.next as a, b ,c  and set a = b, b = a, a = c\n",
    "# Definition for singly-linked list.\n",
    "# class ListNode:\n",
    "#     def __init__(self, x):\n",
    "#         self.val = x\n",
    "#         self.next = None\n",
    "\n",
    "class Solution:\n",
    "    def swapPairs(self, head: ListNode) -> ListNode:\n",
    "        if head is None:\n",
    "            return head \n",
    "        # create a dummy node \n",
    "        dummy = ListNode(-1)\n",
    "        dummy.next = head \n",
    "        \n",
    "        # initialize prev node \n",
    "        prev = dummy \n",
    "        while prev.next and prev.next.next:\n",
    "            a = prev.next \n",
    "            b = a.next \n",
    "            c = b.next \n",
    "            \n",
    "            a.next = c \n",
    "            b.next = a \n",
    "            prev.next = b \n",
    "            \n",
    "            # update prev for next pair's swap \n",
    "            prev = a \n",
    "        return dummy.next "
   ]
  },
  {
   "cell_type": "markdown",
   "metadata": {},
   "source": [
    "25 -  Reverse Nodes in k-Group\n",
    "\n",
    "Given a linked list, reverse the nodes of a linked list k at a time and return its modified list.\n",
    "\n",
    "Example:\n",
    "\n",
    "Given this linked list: 1->2->3->4->5\n",
    "\n",
    "For k = 2, you should return: 2->1->4->3->5"
   ]
  },
  {
   "cell_type": "code",
   "execution_count": null,
   "metadata": {},
   "outputs": [],
   "source": [
    "# Definition for singly-linked list.\n",
    "# class ListNode(object):\n",
    "#     def __init__(self, x):\n",
    "#         self.val = x\n",
    "#         self.next = None\n",
    "\n",
    "class Solution(object):\n",
    "    def reverseKGroup(self, head, k):\n",
    "        \"\"\"\n",
    "        :type head: ListNode\n",
    "        :type k: int\n",
    "        :rtype: ListNode\n",
    "        \"\"\"\n",
    "        # corner case \n",
    "        if not head or k == 1:\n",
    "            return head \n",
    "        # dummy node \n",
    "        dummy = ListNode(-1)\n",
    "        dummy.next = head \n",
    "        prev = dummy \n",
    "        \n",
    "        while prev.next:\n",
    "            cur_node = prev \n",
    "            # find the 'tail' for a k-group nodes \n",
    "            for _ in range(k):\n",
    "                cur_node = cur_node.next \n",
    "                if cur_node is None:\n",
    "                    return dummy.next \n",
    "            # reverse k-group linked lists, similar to problem 206 reverse linked list \n",
    "            self.reverse(prev.next, cur_node)\n",
    "            # head for the next k-group to be reversed \n",
    "            next_prev = prev.next \n",
    "            # update prev.next \n",
    "            prev.next = cur_node\n",
    "            # update prev \n",
    "            prev = next_prev\n",
    "        return dummy.next \n",
    "            \n",
    "    def reverse(self, head, tail):\n",
    "        tail_next = tail.next \n",
    "        cur, prev = head, tail_next \n",
    "        while cur != tail_next:\n",
    "            cur.next, cur, prev = prev, cur.next, cur \n",
    "        "
   ]
  }
 ],
 "metadata": {
  "kernelspec": {
   "display_name": "Python 3",
   "language": "python",
   "name": "python3"
  },
  "language_info": {
   "codemirror_mode": {
    "name": "ipython",
    "version": 3
   },
   "file_extension": ".py",
   "mimetype": "text/x-python",
   "name": "python",
   "nbconvert_exporter": "python",
   "pygments_lexer": "ipython3",
   "version": "3.6.7"
  }
 },
 "nbformat": 4,
 "nbformat_minor": 2
}
