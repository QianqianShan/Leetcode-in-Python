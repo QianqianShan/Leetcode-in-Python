{
 "cells": [
  {
   "cell_type": "markdown",
   "metadata": {},
   "source": [
    "767 - Reorganize String\n",
    "\n",
    "Given a string S, check if the letters can be rearranged so that two characters that are adjacent to each other are not the same.\n",
    "\n",
    "If possible, output any possible result.  If not possible, return the empty string.\n",
    "\n",
    "Example 1:\n",
    "\n",
    "Input: S = \"aab\"\n",
    "    \n",
    "Output: \"aba\""
   ]
  },
  {
   "cell_type": "code",
   "execution_count": null,
   "metadata": {},
   "outputs": [],
   "source": [
    "# 1\n",
    "# count the frequency of each character\n",
    "# if the highest frequency > (n + 1) // 2, not possible to rearrange it in a satisfying way\n",
    "# \n",
    "class Solution(object):\n",
    "    def reorganizeString(self, S):\n",
    "        \"\"\"\n",
    "        :type S: str\n",
    "        :rtype: str\n",
    "        \"\"\"\n",
    "        if S is None:\n",
    "            return\n",
    "        # count frequency \n",
    "        counts = {}\n",
    "        for char in S:\n",
    "            counts.setdefault(char, 0)\n",
    "            counts[char] += 1 \n",
    "        max_count = max([value for key, value in counts.items()])\n",
    "        if max_count > (len(S) + 1) // 2:\n",
    "            return \"\"\n",
    "        else:\n",
    "            # sorted_array have characters in s sorted by frequency\n",
    "            # and same characters appear together \n",
    "            sorted_array = []\n",
    "            for count, value in sorted([(counts[x], x) for x in set(S)]):\n",
    "                sorted_array.extend([value for _ in range(count)])\n",
    "            # print(sorted_array)\n",
    "            results = [None for _ in range(len(S))]\n",
    "            # assign the first half most frequent chars at every odd position \n",
    "            results[::2] = sorted_array[len(S) // 2 : ]\n",
    "            # assign other half in between \n",
    "            results[1::2] = sorted_array[ : len(S) // 2]\n",
    "            return ''.join(results)\n",
    "            "
   ]
  },
  {
   "cell_type": "code",
   "execution_count": null,
   "metadata": {},
   "outputs": [],
   "source": [
    "# 2. heap \n",
    "# count the frequency of each character\n",
    "# if the highest frequency > (n + 1) // 2, not possible to rearrange it in a satisfying way\n",
    "# use heap to pop the current most frequent the second most frequent char alternatively \n",
    "from heapq import heappush, heappop, heapify \n",
    "class Solution(object):\n",
    "    def reorganizeString(self, S):\n",
    "        \"\"\"\n",
    "        :type S: str\n",
    "        :rtype: str\n",
    "        \"\"\"\n",
    "        if S is None:\n",
    "            return\n",
    "        # count frequency \n",
    "        heap = [(-S.count(x), x) for x in set(S)]\n",
    "        if any(-neg_count > (len(S) + 1) // 2 for neg_count, _ in heap):\n",
    "            return \"\"\n",
    "        heapify(heap)\n",
    "        results = []\n",
    "        # only when there are at least two elements in heap, add them to results alternatively \n",
    "        while len(heap) >= 2:\n",
    "            count1, char1 = heappop(heap)\n",
    "            count2, char2 = heappop(heap)\n",
    "            \n",
    "            results.extend([char1, char2])\n",
    "            if -count1 > 1:\n",
    "                heappush(heap, (count1 + 1, char1))\n",
    "            if -count2 > 1:\n",
    "                heappush(heap, (count2 + 1, char2))\n",
    "        # make sure there is nothing left in heap \n",
    "        if len(heap) >= 1:\n",
    "            results.append(heap[0][1])\n",
    "        return ''.join(results) \n",
    "                \n"
   ]
  }
 ],
 "metadata": {
  "kernelspec": {
   "display_name": "Python 3",
   "language": "python",
   "name": "python3"
  },
  "language_info": {
   "codemirror_mode": {
    "name": "ipython",
    "version": 3
   },
   "file_extension": ".py",
   "mimetype": "text/x-python",
   "name": "python",
   "nbconvert_exporter": "python",
   "pygments_lexer": "ipython3",
   "version": "3.6.8"
  }
 },
 "nbformat": 4,
 "nbformat_minor": 2
}
